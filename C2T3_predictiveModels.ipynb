{
 "cells": [
  {
   "cell_type": "code",
   "execution_count": 1,
   "id": "27ac0cf1",
   "metadata": {},
   "outputs": [],
   "source": [
    "from sqlalchemy import create_engine\n",
    "import pymysql\n",
    "import pandas as pd\n",
    "import numpy as np\n",
    "import pandas as pd\n",
    "from pandas import Series, DataFrame\n",
    "from math import sqrt\n",
    "import matplotlib as mpl\n",
    "import matplotlib.pyplot as plt\n",
    "import pandas_profiling\n",
    "import sklearn\n",
    "import seaborn as sns\n",
    "\n",
    "\n",
    "#SKlearn Stuff\n",
    "from sklearn.svm import LinearSVR\n",
    "from sklearn.ensemble import RandomForestRegressor\n",
    "\n",
    "from sklearn.linear_model import LinearRegression\n",
    "from sklearn.model_selection import train_test_split\n",
    "from sklearn.metrics import accuracy_score, classification_report\n",
    "from sklearn.ensemble import RandomForestClassifier, GradientBoostingClassifier\n",
    "from sklearn.tree import DecisionTreeClassifier\n",
    "from sklearn.model_selection import cross_val_score\n",
    "from sklearn.datasets import load_digits\n",
    "from sklearn.tree import export_text\n",
    "from sklearn.model_selection import cross_val_score\n",
    "from sklearn import linear_model\n",
    "from sklearn.metrics import mean_squared_error\n",
    "from sklearn.metrics import r2_score\n",
    "from sklearn.svm import SVR\n",
    "#helpers\n",
    "%matplotlib inline"
   ]
  },
  {
   "cell_type": "code",
   "execution_count": 7,
   "id": "711d5e27",
   "metadata": {},
   "outputs": [
    {
     "data": {
      "text/html": [
       "<div>\n",
       "<style scoped>\n",
       "    .dataframe tbody tr th:only-of-type {\n",
       "        vertical-align: middle;\n",
       "    }\n",
       "\n",
       "    .dataframe tbody tr th {\n",
       "        vertical-align: top;\n",
       "    }\n",
       "\n",
       "    .dataframe thead th {\n",
       "        text-align: right;\n",
       "    }\n",
       "</style>\n",
       "<table border=\"1\" class=\"dataframe\">\n",
       "  <thead>\n",
       "    <tr style=\"text-align: right;\">\n",
       "      <th></th>\n",
       "      <th>Limit_Bal</th>\n",
       "      <th>Marriage</th>\n",
       "      <th>Age</th>\n",
       "      <th>Status_Sept</th>\n",
       "      <th>Status_Aug</th>\n",
       "      <th>Status_Jul</th>\n",
       "      <th>Status_Jun</th>\n",
       "      <th>Status_May</th>\n",
       "      <th>Status_Apr</th>\n",
       "      <th>Bill_Sept</th>\n",
       "      <th>...</th>\n",
       "      <th>Pay_May</th>\n",
       "      <th>Pay_Apr</th>\n",
       "      <th>Sex_female</th>\n",
       "      <th>Sex_male</th>\n",
       "      <th>Education_graduate school</th>\n",
       "      <th>Education_high school</th>\n",
       "      <th>Education_other</th>\n",
       "      <th>Education_university</th>\n",
       "      <th>Default_Status_default</th>\n",
       "      <th>Default_Status_not default</th>\n",
       "    </tr>\n",
       "  </thead>\n",
       "  <tbody>\n",
       "    <tr>\n",
       "      <th>0</th>\n",
       "      <td>20000</td>\n",
       "      <td>1</td>\n",
       "      <td>24</td>\n",
       "      <td>2</td>\n",
       "      <td>2</td>\n",
       "      <td>-1</td>\n",
       "      <td>-1</td>\n",
       "      <td>-2</td>\n",
       "      <td>-2</td>\n",
       "      <td>3913</td>\n",
       "      <td>...</td>\n",
       "      <td>0</td>\n",
       "      <td>0</td>\n",
       "      <td>1</td>\n",
       "      <td>0</td>\n",
       "      <td>0</td>\n",
       "      <td>0</td>\n",
       "      <td>0</td>\n",
       "      <td>1</td>\n",
       "      <td>1</td>\n",
       "      <td>0</td>\n",
       "    </tr>\n",
       "    <tr>\n",
       "      <th>1</th>\n",
       "      <td>120000</td>\n",
       "      <td>2</td>\n",
       "      <td>26</td>\n",
       "      <td>-1</td>\n",
       "      <td>2</td>\n",
       "      <td>0</td>\n",
       "      <td>0</td>\n",
       "      <td>0</td>\n",
       "      <td>2</td>\n",
       "      <td>2682</td>\n",
       "      <td>...</td>\n",
       "      <td>0</td>\n",
       "      <td>2000</td>\n",
       "      <td>1</td>\n",
       "      <td>0</td>\n",
       "      <td>0</td>\n",
       "      <td>0</td>\n",
       "      <td>0</td>\n",
       "      <td>1</td>\n",
       "      <td>1</td>\n",
       "      <td>0</td>\n",
       "    </tr>\n",
       "    <tr>\n",
       "      <th>2</th>\n",
       "      <td>90000</td>\n",
       "      <td>2</td>\n",
       "      <td>34</td>\n",
       "      <td>0</td>\n",
       "      <td>0</td>\n",
       "      <td>0</td>\n",
       "      <td>0</td>\n",
       "      <td>0</td>\n",
       "      <td>0</td>\n",
       "      <td>29239</td>\n",
       "      <td>...</td>\n",
       "      <td>1000</td>\n",
       "      <td>5000</td>\n",
       "      <td>1</td>\n",
       "      <td>0</td>\n",
       "      <td>0</td>\n",
       "      <td>0</td>\n",
       "      <td>0</td>\n",
       "      <td>1</td>\n",
       "      <td>0</td>\n",
       "      <td>1</td>\n",
       "    </tr>\n",
       "    <tr>\n",
       "      <th>3</th>\n",
       "      <td>50000</td>\n",
       "      <td>1</td>\n",
       "      <td>37</td>\n",
       "      <td>0</td>\n",
       "      <td>0</td>\n",
       "      <td>0</td>\n",
       "      <td>0</td>\n",
       "      <td>0</td>\n",
       "      <td>0</td>\n",
       "      <td>46990</td>\n",
       "      <td>...</td>\n",
       "      <td>1069</td>\n",
       "      <td>1000</td>\n",
       "      <td>1</td>\n",
       "      <td>0</td>\n",
       "      <td>0</td>\n",
       "      <td>0</td>\n",
       "      <td>0</td>\n",
       "      <td>1</td>\n",
       "      <td>0</td>\n",
       "      <td>1</td>\n",
       "    </tr>\n",
       "    <tr>\n",
       "      <th>4</th>\n",
       "      <td>50000</td>\n",
       "      <td>1</td>\n",
       "      <td>57</td>\n",
       "      <td>-1</td>\n",
       "      <td>0</td>\n",
       "      <td>-1</td>\n",
       "      <td>0</td>\n",
       "      <td>0</td>\n",
       "      <td>0</td>\n",
       "      <td>8617</td>\n",
       "      <td>...</td>\n",
       "      <td>689</td>\n",
       "      <td>679</td>\n",
       "      <td>0</td>\n",
       "      <td>1</td>\n",
       "      <td>0</td>\n",
       "      <td>0</td>\n",
       "      <td>0</td>\n",
       "      <td>1</td>\n",
       "      <td>0</td>\n",
       "      <td>1</td>\n",
       "    </tr>\n",
       "  </tbody>\n",
       "</table>\n",
       "<p>5 rows × 29 columns</p>\n",
       "</div>"
      ],
      "text/plain": [
       "   Limit_Bal  Marriage  Age  Status_Sept  Status_Aug  Status_Jul  Status_Jun  \\\n",
       "0      20000         1   24            2           2          -1          -1   \n",
       "1     120000         2   26           -1           2           0           0   \n",
       "2      90000         2   34            0           0           0           0   \n",
       "3      50000         1   37            0           0           0           0   \n",
       "4      50000         1   57           -1           0          -1           0   \n",
       "\n",
       "   Status_May  Status_Apr  Bill_Sept  ...  Pay_May  Pay_Apr  Sex_female  \\\n",
       "0          -2          -2       3913  ...        0        0           1   \n",
       "1           0           2       2682  ...        0     2000           1   \n",
       "2           0           0      29239  ...     1000     5000           1   \n",
       "3           0           0      46990  ...     1069     1000           1   \n",
       "4           0           0       8617  ...      689      679           0   \n",
       "\n",
       "   Sex_male  Education_graduate school  Education_high school  \\\n",
       "0         0                          0                      0   \n",
       "1         0                          0                      0   \n",
       "2         0                          0                      0   \n",
       "3         0                          0                      0   \n",
       "4         1                          0                      0   \n",
       "\n",
       "   Education_other  Education_university  Default_Status_default  \\\n",
       "0                0                     1                       1   \n",
       "1                0                     1                       1   \n",
       "2                0                     1                       0   \n",
       "3                0                     1                       0   \n",
       "4                0                     1                       0   \n",
       "\n",
       "   Default_Status_not default  \n",
       "0                           0  \n",
       "1                           0  \n",
       "2                           1  \n",
       "3                           1  \n",
       "4                           1  \n",
       "\n",
       "[5 rows x 29 columns]"
      ]
     },
     "execution_count": 7,
     "metadata": {},
     "output_type": "execute_result"
    }
   ],
   "source": [
    "#data\n",
    "credit = pd.read_csv('default_creditcard_clients.csv')\n",
    "credit.head()"
   ]
  },
  {
   "cell_type": "code",
   "execution_count": 9,
   "id": "362ab7cd",
   "metadata": {},
   "outputs": [
    {
     "name": "stdout",
     "output_type": "stream",
     "text": [
      "<class 'pandas.core.frame.DataFrame'>\n",
      "RangeIndex: 2396 entries, 0 to 2395\n",
      "Data columns (total 29 columns):\n",
      " #   Column                      Non-Null Count  Dtype\n",
      "---  ------                      --------------  -----\n",
      " 0   Limit_Bal                   2396 non-null   int64\n",
      " 1   Marriage                    2396 non-null   int64\n",
      " 2   Age                         2396 non-null   int64\n",
      " 3   Status_Sept                 2396 non-null   int64\n",
      " 4   Status_Aug                  2396 non-null   int64\n",
      " 5   Status_Jul                  2396 non-null   int64\n",
      " 6   Status_Jun                  2396 non-null   int64\n",
      " 7   Status_May                  2396 non-null   int64\n",
      " 8   Status_Apr                  2396 non-null   int64\n",
      " 9   Bill_Sept                   2396 non-null   int64\n",
      " 10  Bill_Aug                    2396 non-null   int64\n",
      " 11  Bill_Jul                    2396 non-null   int64\n",
      " 12  Bill_Jun                    2396 non-null   int64\n",
      " 13  Bill_May                    2396 non-null   int64\n",
      " 14  Bill_Apr                    2396 non-null   int64\n",
      " 15  Pay_Sept                    2396 non-null   int64\n",
      " 16  Pay_Aug                     2396 non-null   int64\n",
      " 17  Pay_Jul                     2396 non-null   int64\n",
      " 18  Pay_Jun                     2396 non-null   int64\n",
      " 19  Pay_May                     2396 non-null   int64\n",
      " 20  Pay_Apr                     2396 non-null   int64\n",
      " 21  Sex_female                  2396 non-null   int64\n",
      " 22  Sex_male                    2396 non-null   int64\n",
      " 23  Education_graduate school   2396 non-null   int64\n",
      " 24  Education_high school       2396 non-null   int64\n",
      " 25  Education_other             2396 non-null   int64\n",
      " 26  Education_university        2396 non-null   int64\n",
      " 27  Default_Status_default      2396 non-null   int64\n",
      " 28  Default_Status_not default  2396 non-null   int64\n",
      "dtypes: int64(29)\n",
      "memory usage: 543.0 KB\n"
     ]
    }
   ],
   "source": [
    "credit.info()"
   ]
  },
  {
   "cell_type": "code",
   "execution_count": 10,
   "id": "784a7606",
   "metadata": {},
   "outputs": [
    {
     "name": "stdout",
     "output_type": "stream",
     "text": [
      "Index(['Limit_Bal', 'Marriage', 'Age', 'Status_Sept', 'Status_Aug',\n",
      "       'Status_Jul', 'Status_Jun', 'Status_May', 'Status_Apr', 'Bill_Sept',\n",
      "       'Bill_Aug', 'Bill_Jul', 'Bill_Jun', 'Bill_May', 'Bill_Apr', 'Pay_Sept',\n",
      "       'Pay_Aug', 'Pay_Jul', 'Pay_Jun', 'Pay_May', 'Pay_Apr', 'Sex_female',\n",
      "       'Sex_male', 'Education_graduate school', 'Education_high school',\n",
      "       'Education_other', 'Education_university', 'Default_Status_default',\n",
      "       'Default_Status_not default'],\n",
      "      dtype='object')\n"
     ]
    }
   ],
   "source": [
    "header = credit.dtypes.index\n",
    "print(header)"
   ]
  },
  {
   "cell_type": "code",
   "execution_count": 11,
   "id": "412f01bc",
   "metadata": {},
   "outputs": [
    {
     "data": {
      "text/html": [
       "<div>\n",
       "<style scoped>\n",
       "    .dataframe tbody tr th:only-of-type {\n",
       "        vertical-align: middle;\n",
       "    }\n",
       "\n",
       "    .dataframe tbody tr th {\n",
       "        vertical-align: top;\n",
       "    }\n",
       "\n",
       "    .dataframe thead th {\n",
       "        text-align: right;\n",
       "    }\n",
       "</style>\n",
       "<table border=\"1\" class=\"dataframe\">\n",
       "  <thead>\n",
       "    <tr style=\"text-align: right;\">\n",
       "      <th></th>\n",
       "      <th>Limit_Bal</th>\n",
       "      <th>Marriage</th>\n",
       "      <th>Age</th>\n",
       "      <th>Status_Sept</th>\n",
       "      <th>Status_Aug</th>\n",
       "      <th>Status_Jul</th>\n",
       "      <th>Status_Jun</th>\n",
       "      <th>Status_May</th>\n",
       "      <th>Status_Apr</th>\n",
       "      <th>Bill_Sept</th>\n",
       "      <th>...</th>\n",
       "      <th>Pay_May</th>\n",
       "      <th>Pay_Apr</th>\n",
       "      <th>Sex_female</th>\n",
       "      <th>Sex_male</th>\n",
       "      <th>Education_graduate school</th>\n",
       "      <th>Education_high school</th>\n",
       "      <th>Education_other</th>\n",
       "      <th>Education_university</th>\n",
       "      <th>Default_Status_default</th>\n",
       "      <th>Default_Status_not default</th>\n",
       "    </tr>\n",
       "  </thead>\n",
       "  <tbody>\n",
       "    <tr>\n",
       "      <th>0</th>\n",
       "      <td>20000</td>\n",
       "      <td>1</td>\n",
       "      <td>24</td>\n",
       "      <td>2</td>\n",
       "      <td>2</td>\n",
       "      <td>-1</td>\n",
       "      <td>-1</td>\n",
       "      <td>-2</td>\n",
       "      <td>-2</td>\n",
       "      <td>3913</td>\n",
       "      <td>...</td>\n",
       "      <td>0</td>\n",
       "      <td>0</td>\n",
       "      <td>1</td>\n",
       "      <td>0</td>\n",
       "      <td>0</td>\n",
       "      <td>0</td>\n",
       "      <td>0</td>\n",
       "      <td>1</td>\n",
       "      <td>1</td>\n",
       "      <td>0</td>\n",
       "    </tr>\n",
       "    <tr>\n",
       "      <th>1</th>\n",
       "      <td>120000</td>\n",
       "      <td>2</td>\n",
       "      <td>26</td>\n",
       "      <td>-1</td>\n",
       "      <td>2</td>\n",
       "      <td>0</td>\n",
       "      <td>0</td>\n",
       "      <td>0</td>\n",
       "      <td>2</td>\n",
       "      <td>2682</td>\n",
       "      <td>...</td>\n",
       "      <td>0</td>\n",
       "      <td>2000</td>\n",
       "      <td>1</td>\n",
       "      <td>0</td>\n",
       "      <td>0</td>\n",
       "      <td>0</td>\n",
       "      <td>0</td>\n",
       "      <td>1</td>\n",
       "      <td>1</td>\n",
       "      <td>0</td>\n",
       "    </tr>\n",
       "    <tr>\n",
       "      <th>2</th>\n",
       "      <td>90000</td>\n",
       "      <td>2</td>\n",
       "      <td>34</td>\n",
       "      <td>0</td>\n",
       "      <td>0</td>\n",
       "      <td>0</td>\n",
       "      <td>0</td>\n",
       "      <td>0</td>\n",
       "      <td>0</td>\n",
       "      <td>29239</td>\n",
       "      <td>...</td>\n",
       "      <td>1000</td>\n",
       "      <td>5000</td>\n",
       "      <td>1</td>\n",
       "      <td>0</td>\n",
       "      <td>0</td>\n",
       "      <td>0</td>\n",
       "      <td>0</td>\n",
       "      <td>1</td>\n",
       "      <td>0</td>\n",
       "      <td>1</td>\n",
       "    </tr>\n",
       "    <tr>\n",
       "      <th>3</th>\n",
       "      <td>50000</td>\n",
       "      <td>1</td>\n",
       "      <td>37</td>\n",
       "      <td>0</td>\n",
       "      <td>0</td>\n",
       "      <td>0</td>\n",
       "      <td>0</td>\n",
       "      <td>0</td>\n",
       "      <td>0</td>\n",
       "      <td>46990</td>\n",
       "      <td>...</td>\n",
       "      <td>1069</td>\n",
       "      <td>1000</td>\n",
       "      <td>1</td>\n",
       "      <td>0</td>\n",
       "      <td>0</td>\n",
       "      <td>0</td>\n",
       "      <td>0</td>\n",
       "      <td>1</td>\n",
       "      <td>0</td>\n",
       "      <td>1</td>\n",
       "    </tr>\n",
       "    <tr>\n",
       "      <th>4</th>\n",
       "      <td>50000</td>\n",
       "      <td>1</td>\n",
       "      <td>57</td>\n",
       "      <td>-1</td>\n",
       "      <td>0</td>\n",
       "      <td>-1</td>\n",
       "      <td>0</td>\n",
       "      <td>0</td>\n",
       "      <td>0</td>\n",
       "      <td>8617</td>\n",
       "      <td>...</td>\n",
       "      <td>689</td>\n",
       "      <td>679</td>\n",
       "      <td>0</td>\n",
       "      <td>1</td>\n",
       "      <td>0</td>\n",
       "      <td>0</td>\n",
       "      <td>0</td>\n",
       "      <td>1</td>\n",
       "      <td>0</td>\n",
       "      <td>1</td>\n",
       "    </tr>\n",
       "    <tr>\n",
       "      <th>...</th>\n",
       "      <td>...</td>\n",
       "      <td>...</td>\n",
       "      <td>...</td>\n",
       "      <td>...</td>\n",
       "      <td>...</td>\n",
       "      <td>...</td>\n",
       "      <td>...</td>\n",
       "      <td>...</td>\n",
       "      <td>...</td>\n",
       "      <td>...</td>\n",
       "      <td>...</td>\n",
       "      <td>...</td>\n",
       "      <td>...</td>\n",
       "      <td>...</td>\n",
       "      <td>...</td>\n",
       "      <td>...</td>\n",
       "      <td>...</td>\n",
       "      <td>...</td>\n",
       "      <td>...</td>\n",
       "      <td>...</td>\n",
       "      <td>...</td>\n",
       "    </tr>\n",
       "    <tr>\n",
       "      <th>2391</th>\n",
       "      <td>50000</td>\n",
       "      <td>1</td>\n",
       "      <td>32</td>\n",
       "      <td>2</td>\n",
       "      <td>3</td>\n",
       "      <td>2</td>\n",
       "      <td>2</td>\n",
       "      <td>2</td>\n",
       "      <td>2</td>\n",
       "      <td>39589</td>\n",
       "      <td>...</td>\n",
       "      <td>3600</td>\n",
       "      <td>0</td>\n",
       "      <td>0</td>\n",
       "      <td>1</td>\n",
       "      <td>0</td>\n",
       "      <td>1</td>\n",
       "      <td>0</td>\n",
       "      <td>0</td>\n",
       "      <td>1</td>\n",
       "      <td>0</td>\n",
       "    </tr>\n",
       "    <tr>\n",
       "      <th>2392</th>\n",
       "      <td>20000</td>\n",
       "      <td>2</td>\n",
       "      <td>49</td>\n",
       "      <td>0</td>\n",
       "      <td>0</td>\n",
       "      <td>2</td>\n",
       "      <td>0</td>\n",
       "      <td>-1</td>\n",
       "      <td>-1</td>\n",
       "      <td>8503</td>\n",
       "      <td>...</td>\n",
       "      <td>0</td>\n",
       "      <td>0</td>\n",
       "      <td>1</td>\n",
       "      <td>0</td>\n",
       "      <td>0</td>\n",
       "      <td>1</td>\n",
       "      <td>0</td>\n",
       "      <td>0</td>\n",
       "      <td>0</td>\n",
       "      <td>1</td>\n",
       "    </tr>\n",
       "    <tr>\n",
       "      <th>2393</th>\n",
       "      <td>130000</td>\n",
       "      <td>2</td>\n",
       "      <td>24</td>\n",
       "      <td>1</td>\n",
       "      <td>-2</td>\n",
       "      <td>-1</td>\n",
       "      <td>-1</td>\n",
       "      <td>-1</td>\n",
       "      <td>-1</td>\n",
       "      <td>-10</td>\n",
       "      <td>...</td>\n",
       "      <td>939</td>\n",
       "      <td>1013</td>\n",
       "      <td>1</td>\n",
       "      <td>0</td>\n",
       "      <td>0</td>\n",
       "      <td>0</td>\n",
       "      <td>0</td>\n",
       "      <td>1</td>\n",
       "      <td>0</td>\n",
       "      <td>1</td>\n",
       "    </tr>\n",
       "    <tr>\n",
       "      <th>2394</th>\n",
       "      <td>110000</td>\n",
       "      <td>1</td>\n",
       "      <td>27</td>\n",
       "      <td>0</td>\n",
       "      <td>0</td>\n",
       "      <td>0</td>\n",
       "      <td>0</td>\n",
       "      <td>0</td>\n",
       "      <td>0</td>\n",
       "      <td>61152</td>\n",
       "      <td>...</td>\n",
       "      <td>1911</td>\n",
       "      <td>1808</td>\n",
       "      <td>1</td>\n",
       "      <td>0</td>\n",
       "      <td>0</td>\n",
       "      <td>1</td>\n",
       "      <td>0</td>\n",
       "      <td>0</td>\n",
       "      <td>0</td>\n",
       "      <td>1</td>\n",
       "    </tr>\n",
       "    <tr>\n",
       "      <th>2395</th>\n",
       "      <td>200000</td>\n",
       "      <td>1</td>\n",
       "      <td>29</td>\n",
       "      <td>0</td>\n",
       "      <td>0</td>\n",
       "      <td>0</td>\n",
       "      <td>2</td>\n",
       "      <td>2</td>\n",
       "      <td>2</td>\n",
       "      <td>45982</td>\n",
       "      <td>...</td>\n",
       "      <td>12</td>\n",
       "      <td>5224</td>\n",
       "      <td>0</td>\n",
       "      <td>1</td>\n",
       "      <td>0</td>\n",
       "      <td>0</td>\n",
       "      <td>0</td>\n",
       "      <td>1</td>\n",
       "      <td>0</td>\n",
       "      <td>1</td>\n",
       "    </tr>\n",
       "  </tbody>\n",
       "</table>\n",
       "<p>2396 rows × 29 columns</p>\n",
       "</div>"
      ],
      "text/plain": [
       "      Limit_Bal  Marriage  Age  Status_Sept  Status_Aug  Status_Jul  \\\n",
       "0         20000         1   24            2           2          -1   \n",
       "1        120000         2   26           -1           2           0   \n",
       "2         90000         2   34            0           0           0   \n",
       "3         50000         1   37            0           0           0   \n",
       "4         50000         1   57           -1           0          -1   \n",
       "...         ...       ...  ...          ...         ...         ...   \n",
       "2391      50000         1   32            2           3           2   \n",
       "2392      20000         2   49            0           0           2   \n",
       "2393     130000         2   24            1          -2          -1   \n",
       "2394     110000         1   27            0           0           0   \n",
       "2395     200000         1   29            0           0           0   \n",
       "\n",
       "      Status_Jun  Status_May  Status_Apr  Bill_Sept  ...  Pay_May  Pay_Apr  \\\n",
       "0             -1          -2          -2       3913  ...        0        0   \n",
       "1              0           0           2       2682  ...        0     2000   \n",
       "2              0           0           0      29239  ...     1000     5000   \n",
       "3              0           0           0      46990  ...     1069     1000   \n",
       "4              0           0           0       8617  ...      689      679   \n",
       "...          ...         ...         ...        ...  ...      ...      ...   \n",
       "2391           2           2           2      39589  ...     3600        0   \n",
       "2392           0          -1          -1       8503  ...        0        0   \n",
       "2393          -1          -1          -1        -10  ...      939     1013   \n",
       "2394           0           0           0      61152  ...     1911     1808   \n",
       "2395           2           2           2      45982  ...       12     5224   \n",
       "\n",
       "      Sex_female  Sex_male  Education_graduate school  Education_high school  \\\n",
       "0              1         0                          0                      0   \n",
       "1              1         0                          0                      0   \n",
       "2              1         0                          0                      0   \n",
       "3              1         0                          0                      0   \n",
       "4              0         1                          0                      0   \n",
       "...          ...       ...                        ...                    ...   \n",
       "2391           0         1                          0                      1   \n",
       "2392           1         0                          0                      1   \n",
       "2393           1         0                          0                      0   \n",
       "2394           1         0                          0                      1   \n",
       "2395           0         1                          0                      0   \n",
       "\n",
       "      Education_other  Education_university  Default_Status_default  \\\n",
       "0                   0                     1                       1   \n",
       "1                   0                     1                       1   \n",
       "2                   0                     1                       0   \n",
       "3                   0                     1                       0   \n",
       "4                   0                     1                       0   \n",
       "...               ...                   ...                     ...   \n",
       "2391                0                     0                       1   \n",
       "2392                0                     0                       0   \n",
       "2393                0                     1                       0   \n",
       "2394                0                     0                       0   \n",
       "2395                0                     1                       0   \n",
       "\n",
       "      Default_Status_not default  \n",
       "0                              0  \n",
       "1                              0  \n",
       "2                              1  \n",
       "3                              1  \n",
       "4                              1  \n",
       "...                          ...  \n",
       "2391                           0  \n",
       "2392                           1  \n",
       "2393                           1  \n",
       "2394                           1  \n",
       "2395                           1  \n",
       "\n",
       "[2396 rows x 29 columns]"
      ]
     },
     "execution_count": 11,
     "metadata": {},
     "output_type": "execute_result"
    }
   ],
   "source": [
    "###3 Iloc demo\n",
    "credit.iloc[:, 0:]"
   ]
  },
  {
   "cell_type": "markdown",
   "id": "2951cc0d",
   "metadata": {},
   "source": [
    "# 1. Predicting Accuracy with DT, RFC and GBC Default PMT as dependant, acc ~ 82"
   ]
  },
  {
   "cell_type": "code",
   "execution_count": 62,
   "id": "692b9ec8",
   "metadata": {},
   "outputs": [
    {
     "name": "stdout",
     "output_type": "stream",
     "text": [
      "Summary of feature sample\n"
     ]
    },
    {
     "data": {
      "text/html": [
       "<div>\n",
       "<style scoped>\n",
       "    .dataframe tbody tr th:only-of-type {\n",
       "        vertical-align: middle;\n",
       "    }\n",
       "\n",
       "    .dataframe tbody tr th {\n",
       "        vertical-align: top;\n",
       "    }\n",
       "\n",
       "    .dataframe thead th {\n",
       "        text-align: right;\n",
       "    }\n",
       "</style>\n",
       "<table border=\"1\" class=\"dataframe\">\n",
       "  <thead>\n",
       "    <tr style=\"text-align: right;\">\n",
       "      <th></th>\n",
       "      <th>Limit_Bal</th>\n",
       "      <th>Marriage</th>\n",
       "      <th>Age</th>\n",
       "      <th>Status_Sept</th>\n",
       "      <th>Status_Aug</th>\n",
       "      <th>Status_Jul</th>\n",
       "      <th>Status_Jun</th>\n",
       "      <th>Status_May</th>\n",
       "      <th>Status_Apr</th>\n",
       "      <th>Bill_Sept</th>\n",
       "      <th>...</th>\n",
       "      <th>Pay_Jul</th>\n",
       "      <th>Pay_Jun</th>\n",
       "      <th>Pay_May</th>\n",
       "      <th>Pay_Apr</th>\n",
       "      <th>Sex_female</th>\n",
       "      <th>Sex_male</th>\n",
       "      <th>Education_graduate school</th>\n",
       "      <th>Education_high school</th>\n",
       "      <th>Education_other</th>\n",
       "      <th>Education_university</th>\n",
       "    </tr>\n",
       "  </thead>\n",
       "  <tbody>\n",
       "    <tr>\n",
       "      <th>0</th>\n",
       "      <td>20000</td>\n",
       "      <td>1</td>\n",
       "      <td>24</td>\n",
       "      <td>2</td>\n",
       "      <td>2</td>\n",
       "      <td>-1</td>\n",
       "      <td>-1</td>\n",
       "      <td>-2</td>\n",
       "      <td>-2</td>\n",
       "      <td>3913</td>\n",
       "      <td>...</td>\n",
       "      <td>0</td>\n",
       "      <td>0</td>\n",
       "      <td>0</td>\n",
       "      <td>0</td>\n",
       "      <td>1</td>\n",
       "      <td>0</td>\n",
       "      <td>0</td>\n",
       "      <td>0</td>\n",
       "      <td>0</td>\n",
       "      <td>1</td>\n",
       "    </tr>\n",
       "    <tr>\n",
       "      <th>1</th>\n",
       "      <td>120000</td>\n",
       "      <td>2</td>\n",
       "      <td>26</td>\n",
       "      <td>-1</td>\n",
       "      <td>2</td>\n",
       "      <td>0</td>\n",
       "      <td>0</td>\n",
       "      <td>0</td>\n",
       "      <td>2</td>\n",
       "      <td>2682</td>\n",
       "      <td>...</td>\n",
       "      <td>1000</td>\n",
       "      <td>1000</td>\n",
       "      <td>0</td>\n",
       "      <td>2000</td>\n",
       "      <td>1</td>\n",
       "      <td>0</td>\n",
       "      <td>0</td>\n",
       "      <td>0</td>\n",
       "      <td>0</td>\n",
       "      <td>1</td>\n",
       "    </tr>\n",
       "    <tr>\n",
       "      <th>2</th>\n",
       "      <td>90000</td>\n",
       "      <td>2</td>\n",
       "      <td>34</td>\n",
       "      <td>0</td>\n",
       "      <td>0</td>\n",
       "      <td>0</td>\n",
       "      <td>0</td>\n",
       "      <td>0</td>\n",
       "      <td>0</td>\n",
       "      <td>29239</td>\n",
       "      <td>...</td>\n",
       "      <td>1000</td>\n",
       "      <td>1000</td>\n",
       "      <td>1000</td>\n",
       "      <td>5000</td>\n",
       "      <td>1</td>\n",
       "      <td>0</td>\n",
       "      <td>0</td>\n",
       "      <td>0</td>\n",
       "      <td>0</td>\n",
       "      <td>1</td>\n",
       "    </tr>\n",
       "    <tr>\n",
       "      <th>3</th>\n",
       "      <td>50000</td>\n",
       "      <td>1</td>\n",
       "      <td>37</td>\n",
       "      <td>0</td>\n",
       "      <td>0</td>\n",
       "      <td>0</td>\n",
       "      <td>0</td>\n",
       "      <td>0</td>\n",
       "      <td>0</td>\n",
       "      <td>46990</td>\n",
       "      <td>...</td>\n",
       "      <td>1200</td>\n",
       "      <td>1100</td>\n",
       "      <td>1069</td>\n",
       "      <td>1000</td>\n",
       "      <td>1</td>\n",
       "      <td>0</td>\n",
       "      <td>0</td>\n",
       "      <td>0</td>\n",
       "      <td>0</td>\n",
       "      <td>1</td>\n",
       "    </tr>\n",
       "    <tr>\n",
       "      <th>4</th>\n",
       "      <td>50000</td>\n",
       "      <td>1</td>\n",
       "      <td>57</td>\n",
       "      <td>-1</td>\n",
       "      <td>0</td>\n",
       "      <td>-1</td>\n",
       "      <td>0</td>\n",
       "      <td>0</td>\n",
       "      <td>0</td>\n",
       "      <td>8617</td>\n",
       "      <td>...</td>\n",
       "      <td>10000</td>\n",
       "      <td>9000</td>\n",
       "      <td>689</td>\n",
       "      <td>679</td>\n",
       "      <td>0</td>\n",
       "      <td>1</td>\n",
       "      <td>0</td>\n",
       "      <td>0</td>\n",
       "      <td>0</td>\n",
       "      <td>1</td>\n",
       "    </tr>\n",
       "  </tbody>\n",
       "</table>\n",
       "<p>5 rows × 27 columns</p>\n",
       "</div>"
      ],
      "text/plain": [
       "   Limit_Bal  Marriage  Age  Status_Sept  Status_Aug  Status_Jul  Status_Jun  \\\n",
       "0      20000         1   24            2           2          -1          -1   \n",
       "1     120000         2   26           -1           2           0           0   \n",
       "2      90000         2   34            0           0           0           0   \n",
       "3      50000         1   37            0           0           0           0   \n",
       "4      50000         1   57           -1           0          -1           0   \n",
       "\n",
       "   Status_May  Status_Apr  Bill_Sept  ...  Pay_Jul  Pay_Jun  Pay_May  Pay_Apr  \\\n",
       "0          -2          -2       3913  ...        0        0        0        0   \n",
       "1           0           2       2682  ...     1000     1000        0     2000   \n",
       "2           0           0      29239  ...     1000     1000     1000     5000   \n",
       "3           0           0      46990  ...     1200     1100     1069     1000   \n",
       "4           0           0       8617  ...    10000     9000      689      679   \n",
       "\n",
       "   Sex_female  Sex_male  Education_graduate school  Education_high school  \\\n",
       "0           1         0                          0                      0   \n",
       "1           1         0                          0                      0   \n",
       "2           1         0                          0                      0   \n",
       "3           1         0                          0                      0   \n",
       "4           0         1                          0                      0   \n",
       "\n",
       "   Education_other  Education_university  \n",
       "0                0                     1  \n",
       "1                0                     1  \n",
       "2                0                     1  \n",
       "3                0                     1  \n",
       "4                0                     1  \n",
       "\n",
       "[5 rows x 27 columns]"
      ]
     },
     "execution_count": 62,
     "metadata": {},
     "output_type": "execute_result"
    }
   ],
   "source": [
    "#features\n",
    "X = credit.iloc[:, :-2]\n",
    "print('Summary of feature sample')\n",
    "X.head()"
   ]
  },
  {
   "cell_type": "code",
   "execution_count": 63,
   "id": "f581c24b",
   "metadata": {},
   "outputs": [],
   "source": [
    "y= credit['Default_Status_default']"
   ]
  },
  {
   "cell_type": "code",
   "execution_count": 64,
   "id": "9b5f1697",
   "metadata": {},
   "outputs": [],
   "source": [
    "#train test split\n",
    "x_train, x_test, y_train, y_test = train_test_split(X, y,test_size = 0.3, random_state = 123)"
   ]
  },
  {
   "cell_type": "code",
   "execution_count": 65,
   "id": "491a4acc",
   "metadata": {},
   "outputs": [
    {
     "name": "stdout",
     "output_type": "stream",
     "text": [
      "              precision    recall  f1-score   support\n",
      "\n",
      "           0       0.82      0.79      0.80       572\n",
      "           1       0.28      0.32      0.30       147\n",
      "\n",
      "    accuracy                           0.69       719\n",
      "   macro avg       0.55      0.55      0.55       719\n",
      "weighted avg       0.71      0.69      0.70       719\n",
      "\n"
     ]
    }
   ],
   "source": [
    "#Modeling (Classification)\n",
    "algo_credit1= DecisionTreeClassifier(max_depth=20, )\n",
    "model_credit = algo_credit1.fit(x_train,y_train)\n",
    "#Predictions\n",
    "preds_credit= model_credit.predict(x_test)\n",
    "print(classification_report(y_test, preds_credit))"
   ]
  },
  {
   "cell_type": "code",
   "execution_count": 66,
   "id": "31a3c145",
   "metadata": {},
   "outputs": [
    {
     "name": "stdout",
     "output_type": "stream",
     "text": [
      "              precision    recall  f1-score   support\n",
      "\n",
      "           0       0.84      0.97      0.90       572\n",
      "           1       0.67      0.28      0.39       147\n",
      "\n",
      "    accuracy                           0.82       719\n",
      "   macro avg       0.76      0.62      0.65       719\n",
      "weighted avg       0.80      0.82      0.79       719\n",
      "\n"
     ]
    }
   ],
   "source": [
    "#Modeling (Classification)\n",
    "algo_credit2= RandomForestClassifier(max_depth=20, )\n",
    "model_credit = algo_credit2.fit(x_train,y_train)\n",
    "#Predictions\n",
    "preds_credit= model_credit.predict(x_test)\n",
    "print(classification_report(y_test, preds_credit))"
   ]
  },
  {
   "cell_type": "code",
   "execution_count": 67,
   "id": "8baed867",
   "metadata": {},
   "outputs": [
    {
     "name": "stdout",
     "output_type": "stream",
     "text": [
      "              precision    recall  f1-score   support\n",
      "\n",
      "           0       0.84      0.96      0.90       572\n",
      "           1       0.65      0.31      0.42       147\n",
      "\n",
      "    accuracy                           0.82       719\n",
      "   macro avg       0.75      0.63      0.66       719\n",
      "weighted avg       0.80      0.82      0.80       719\n",
      "\n"
     ]
    }
   ],
   "source": [
    "#Modeling (Classification)\n",
    "algo_credit3= GradientBoostingClassifier( )\n",
    "model_credit = algo_credit3.fit(x_train,y_train)\n",
    "#Predictions\n",
    "preds_credit= model_credit.predict(x_test)\n",
    "print(classification_report(y_test, preds_credit))"
   ]
  },
  {
   "cell_type": "code",
   "execution_count": 68,
   "id": "5b1d1335",
   "metadata": {},
   "outputs": [],
   "source": [
    "\n",
    "np.random.seed(42)"
   ]
  },
  {
   "cell_type": "code",
   "execution_count": 69,
   "id": "1afc41d1",
   "metadata": {},
   "outputs": [],
   "source": [
    "algos_Class = []\n",
    "algos_Class.append(('Random Forest Classifier', RandomForestClassifier()))\n",
    "algos_Class.append(('Decision Tree Classifier', DecisionTreeClassifier()))\n",
    "algos_Class.append(('Gradient Bossting Class', GradientBoostingClassifier()))"
   ]
  },
  {
   "cell_type": "code",
   "execution_count": 70,
   "id": "65b2afa8",
   "metadata": {},
   "outputs": [
    {
     "data": {
      "text/plain": [
       "[('Random Forest Classifier', RandomForestClassifier()),\n",
       " ('Decision Tree Classifier', DecisionTreeClassifier()),\n",
       " ('Gradient Bossting Class', GradientBoostingClassifier())]"
      ]
     },
     "execution_count": 70,
     "metadata": {},
     "output_type": "execute_result"
    }
   ],
   "source": [
    "algos_Class"
   ]
  },
  {
   "cell_type": "code",
   "execution_count": 71,
   "id": "3c524562",
   "metadata": {},
   "outputs": [],
   "source": [
    "#classification\n",
    "results = []\n",
    "names = []\n",
    "for name, model in algos_Class:\n",
    "    result = cross_val_score(model, X,y)\n",
    "    results.append(result)\n",
    "    names.append(name)"
   ]
  },
  {
   "cell_type": "code",
   "execution_count": 72,
   "id": "a4d752be",
   "metadata": {},
   "outputs": [
    {
     "data": {
      "text/plain": [
       "[array([0.8125    , 0.81002088, 0.79749478, 0.80584551, 0.80167015]),\n",
       " array([0.71041667, 0.6743215 , 0.72025052, 0.7223382 , 0.70772443]),\n",
       " array([0.8       , 0.80584551, 0.79331942, 0.79958246, 0.83924843])]"
      ]
     },
     "execution_count": 72,
     "metadata": {},
     "output_type": "execute_result"
    }
   ],
   "source": [
    "results"
   ]
  },
  {
   "cell_type": "code",
   "execution_count": 73,
   "id": "39aa069c",
   "metadata": {},
   "outputs": [
    {
     "name": "stdout",
     "output_type": "stream",
     "text": [
      "[0.80208333 0.80584551 0.79331942 0.80584551 0.83924843]\n"
     ]
    }
   ],
   "source": [
    "print(cross_val_score(model, X, y, cv=5, )) # cv = number of folds being held out"
   ]
  },
  {
   "cell_type": "code",
   "execution_count": 74,
   "id": "5ef3e338",
   "metadata": {},
   "outputs": [
    {
     "name": "stdout",
     "output_type": "stream",
     "text": [
      "Random Forest Classifier 0.8055062630480168\n",
      "Decision Tree Classifier 0.7070102644398052\n",
      "Gradient Bossting Class 0.8075991649269312\n"
     ]
    }
   ],
   "source": [
    "for i in range(len(names)):\n",
    "    print(names[i],results[i].mean())"
   ]
  },
  {
   "cell_type": "markdown",
   "id": "7854e2a5",
   "metadata": {},
   "source": [
    "# Predictive Analysis"
   ]
  },
  {
   "cell_type": "code",
   "execution_count": 75,
   "id": "951cd826",
   "metadata": {},
   "outputs": [
    {
     "data": {
      "text/html": [
       "<style>#sk-container-id-4 {color: black;background-color: white;}#sk-container-id-4 pre{padding: 0;}#sk-container-id-4 div.sk-toggleable {background-color: white;}#sk-container-id-4 label.sk-toggleable__label {cursor: pointer;display: block;width: 100%;margin-bottom: 0;padding: 0.3em;box-sizing: border-box;text-align: center;}#sk-container-id-4 label.sk-toggleable__label-arrow:before {content: \"▸\";float: left;margin-right: 0.25em;color: #696969;}#sk-container-id-4 label.sk-toggleable__label-arrow:hover:before {color: black;}#sk-container-id-4 div.sk-estimator:hover label.sk-toggleable__label-arrow:before {color: black;}#sk-container-id-4 div.sk-toggleable__content {max-height: 0;max-width: 0;overflow: hidden;text-align: left;background-color: #f0f8ff;}#sk-container-id-4 div.sk-toggleable__content pre {margin: 0.2em;color: black;border-radius: 0.25em;background-color: #f0f8ff;}#sk-container-id-4 input.sk-toggleable__control:checked~div.sk-toggleable__content {max-height: 200px;max-width: 100%;overflow: auto;}#sk-container-id-4 input.sk-toggleable__control:checked~label.sk-toggleable__label-arrow:before {content: \"▾\";}#sk-container-id-4 div.sk-estimator input.sk-toggleable__control:checked~label.sk-toggleable__label {background-color: #d4ebff;}#sk-container-id-4 div.sk-label input.sk-toggleable__control:checked~label.sk-toggleable__label {background-color: #d4ebff;}#sk-container-id-4 input.sk-hidden--visually {border: 0;clip: rect(1px 1px 1px 1px);clip: rect(1px, 1px, 1px, 1px);height: 1px;margin: -1px;overflow: hidden;padding: 0;position: absolute;width: 1px;}#sk-container-id-4 div.sk-estimator {font-family: monospace;background-color: #f0f8ff;border: 1px dotted black;border-radius: 0.25em;box-sizing: border-box;margin-bottom: 0.5em;}#sk-container-id-4 div.sk-estimator:hover {background-color: #d4ebff;}#sk-container-id-4 div.sk-parallel-item::after {content: \"\";width: 100%;border-bottom: 1px solid gray;flex-grow: 1;}#sk-container-id-4 div.sk-label:hover label.sk-toggleable__label {background-color: #d4ebff;}#sk-container-id-4 div.sk-serial::before {content: \"\";position: absolute;border-left: 1px solid gray;box-sizing: border-box;top: 0;bottom: 0;left: 50%;z-index: 0;}#sk-container-id-4 div.sk-serial {display: flex;flex-direction: column;align-items: center;background-color: white;padding-right: 0.2em;padding-left: 0.2em;position: relative;}#sk-container-id-4 div.sk-item {position: relative;z-index: 1;}#sk-container-id-4 div.sk-parallel {display: flex;align-items: stretch;justify-content: center;background-color: white;position: relative;}#sk-container-id-4 div.sk-item::before, #sk-container-id-4 div.sk-parallel-item::before {content: \"\";position: absolute;border-left: 1px solid gray;box-sizing: border-box;top: 0;bottom: 0;left: 50%;z-index: -1;}#sk-container-id-4 div.sk-parallel-item {display: flex;flex-direction: column;z-index: 1;position: relative;background-color: white;}#sk-container-id-4 div.sk-parallel-item:first-child::after {align-self: flex-end;width: 50%;}#sk-container-id-4 div.sk-parallel-item:last-child::after {align-self: flex-start;width: 50%;}#sk-container-id-4 div.sk-parallel-item:only-child::after {width: 0;}#sk-container-id-4 div.sk-dashed-wrapped {border: 1px dashed gray;margin: 0 0.4em 0.5em 0.4em;box-sizing: border-box;padding-bottom: 0.4em;background-color: white;}#sk-container-id-4 div.sk-label label {font-family: monospace;font-weight: bold;display: inline-block;line-height: 1.2em;}#sk-container-id-4 div.sk-label-container {text-align: center;}#sk-container-id-4 div.sk-container {/* jupyter's `normalize.less` sets `[hidden] { display: none; }` but bootstrap.min.css set `[hidden] { display: none !important; }` so we also need the `!important` here to be able to override the default hidden behavior on the sphinx rendered scikit-learn.org. See: https://github.com/scikit-learn/scikit-learn/issues/21755 */display: inline-block !important;position: relative;}#sk-container-id-4 div.sk-text-repr-fallback {display: none;}</style><div id=\"sk-container-id-4\" class=\"sk-top-container\"><div class=\"sk-text-repr-fallback\"><pre>DecisionTreeClassifier(max_depth=20)</pre><b>In a Jupyter environment, please rerun this cell to show the HTML representation or trust the notebook. <br />On GitHub, the HTML representation is unable to render, please try loading this page with nbviewer.org.</b></div><div class=\"sk-container\" hidden><div class=\"sk-item\"><div class=\"sk-estimator sk-toggleable\"><input class=\"sk-toggleable__control sk-hidden--visually\" id=\"sk-estimator-id-4\" type=\"checkbox\" checked><label for=\"sk-estimator-id-4\" class=\"sk-toggleable__label sk-toggleable__label-arrow\">DecisionTreeClassifier</label><div class=\"sk-toggleable__content\"><pre>DecisionTreeClassifier(max_depth=20)</pre></div></div></div></div></div>"
      ],
      "text/plain": [
       "DecisionTreeClassifier(max_depth=20)"
      ]
     },
     "execution_count": 75,
     "metadata": {},
     "output_type": "execute_result"
    }
   ],
   "source": [
    "#DecisionTreeClassifier\n",
    "DTC=algo_credit1\n",
    "DTC.fit(x_train, y_train)"
   ]
  },
  {
   "cell_type": "code",
   "execution_count": 76,
   "id": "67c23740",
   "metadata": {},
   "outputs": [
    {
     "data": {
      "text/plain": [
       "0.6968011126564673"
      ]
     },
     "execution_count": 76,
     "metadata": {},
     "output_type": "execute_result"
    }
   ],
   "source": [
    "predictions = DTC.predict(x_test)\n",
    "DTC.score(x_test, y_test)"
   ]
  },
  {
   "cell_type": "code",
   "execution_count": 77,
   "id": "22f597f7",
   "metadata": {},
   "outputs": [
    {
     "data": {
      "text/html": [
       "<style>#sk-container-id-5 {color: black;background-color: white;}#sk-container-id-5 pre{padding: 0;}#sk-container-id-5 div.sk-toggleable {background-color: white;}#sk-container-id-5 label.sk-toggleable__label {cursor: pointer;display: block;width: 100%;margin-bottom: 0;padding: 0.3em;box-sizing: border-box;text-align: center;}#sk-container-id-5 label.sk-toggleable__label-arrow:before {content: \"▸\";float: left;margin-right: 0.25em;color: #696969;}#sk-container-id-5 label.sk-toggleable__label-arrow:hover:before {color: black;}#sk-container-id-5 div.sk-estimator:hover label.sk-toggleable__label-arrow:before {color: black;}#sk-container-id-5 div.sk-toggleable__content {max-height: 0;max-width: 0;overflow: hidden;text-align: left;background-color: #f0f8ff;}#sk-container-id-5 div.sk-toggleable__content pre {margin: 0.2em;color: black;border-radius: 0.25em;background-color: #f0f8ff;}#sk-container-id-5 input.sk-toggleable__control:checked~div.sk-toggleable__content {max-height: 200px;max-width: 100%;overflow: auto;}#sk-container-id-5 input.sk-toggleable__control:checked~label.sk-toggleable__label-arrow:before {content: \"▾\";}#sk-container-id-5 div.sk-estimator input.sk-toggleable__control:checked~label.sk-toggleable__label {background-color: #d4ebff;}#sk-container-id-5 div.sk-label input.sk-toggleable__control:checked~label.sk-toggleable__label {background-color: #d4ebff;}#sk-container-id-5 input.sk-hidden--visually {border: 0;clip: rect(1px 1px 1px 1px);clip: rect(1px, 1px, 1px, 1px);height: 1px;margin: -1px;overflow: hidden;padding: 0;position: absolute;width: 1px;}#sk-container-id-5 div.sk-estimator {font-family: monospace;background-color: #f0f8ff;border: 1px dotted black;border-radius: 0.25em;box-sizing: border-box;margin-bottom: 0.5em;}#sk-container-id-5 div.sk-estimator:hover {background-color: #d4ebff;}#sk-container-id-5 div.sk-parallel-item::after {content: \"\";width: 100%;border-bottom: 1px solid gray;flex-grow: 1;}#sk-container-id-5 div.sk-label:hover label.sk-toggleable__label {background-color: #d4ebff;}#sk-container-id-5 div.sk-serial::before {content: \"\";position: absolute;border-left: 1px solid gray;box-sizing: border-box;top: 0;bottom: 0;left: 50%;z-index: 0;}#sk-container-id-5 div.sk-serial {display: flex;flex-direction: column;align-items: center;background-color: white;padding-right: 0.2em;padding-left: 0.2em;position: relative;}#sk-container-id-5 div.sk-item {position: relative;z-index: 1;}#sk-container-id-5 div.sk-parallel {display: flex;align-items: stretch;justify-content: center;background-color: white;position: relative;}#sk-container-id-5 div.sk-item::before, #sk-container-id-5 div.sk-parallel-item::before {content: \"\";position: absolute;border-left: 1px solid gray;box-sizing: border-box;top: 0;bottom: 0;left: 50%;z-index: -1;}#sk-container-id-5 div.sk-parallel-item {display: flex;flex-direction: column;z-index: 1;position: relative;background-color: white;}#sk-container-id-5 div.sk-parallel-item:first-child::after {align-self: flex-end;width: 50%;}#sk-container-id-5 div.sk-parallel-item:last-child::after {align-self: flex-start;width: 50%;}#sk-container-id-5 div.sk-parallel-item:only-child::after {width: 0;}#sk-container-id-5 div.sk-dashed-wrapped {border: 1px dashed gray;margin: 0 0.4em 0.5em 0.4em;box-sizing: border-box;padding-bottom: 0.4em;background-color: white;}#sk-container-id-5 div.sk-label label {font-family: monospace;font-weight: bold;display: inline-block;line-height: 1.2em;}#sk-container-id-5 div.sk-label-container {text-align: center;}#sk-container-id-5 div.sk-container {/* jupyter's `normalize.less` sets `[hidden] { display: none; }` but bootstrap.min.css set `[hidden] { display: none !important; }` so we also need the `!important` here to be able to override the default hidden behavior on the sphinx rendered scikit-learn.org. See: https://github.com/scikit-learn/scikit-learn/issues/21755 */display: inline-block !important;position: relative;}#sk-container-id-5 div.sk-text-repr-fallback {display: none;}</style><div id=\"sk-container-id-5\" class=\"sk-top-container\"><div class=\"sk-text-repr-fallback\"><pre>RandomForestClassifier(max_depth=20)</pre><b>In a Jupyter environment, please rerun this cell to show the HTML representation or trust the notebook. <br />On GitHub, the HTML representation is unable to render, please try loading this page with nbviewer.org.</b></div><div class=\"sk-container\" hidden><div class=\"sk-item\"><div class=\"sk-estimator sk-toggleable\"><input class=\"sk-toggleable__control sk-hidden--visually\" id=\"sk-estimator-id-5\" type=\"checkbox\" checked><label for=\"sk-estimator-id-5\" class=\"sk-toggleable__label sk-toggleable__label-arrow\">RandomForestClassifier</label><div class=\"sk-toggleable__content\"><pre>RandomForestClassifier(max_depth=20)</pre></div></div></div></div></div>"
      ],
      "text/plain": [
       "RandomForestClassifier(max_depth=20)"
      ]
     },
     "execution_count": 77,
     "metadata": {},
     "output_type": "execute_result"
    }
   ],
   "source": [
    "#RandomForestClassifier\n",
    "RF=algo_credit2\n",
    "RF.fit(x_train, y_train)"
   ]
  },
  {
   "cell_type": "code",
   "execution_count": 78,
   "id": "a182a314",
   "metadata": {},
   "outputs": [
    {
     "data": {
      "text/plain": [
       "0.8247566063977747"
      ]
     },
     "execution_count": 78,
     "metadata": {},
     "output_type": "execute_result"
    }
   ],
   "source": [
    "predictions = RF.predict(x_test)\n",
    "RF.score(x_test, y_test)"
   ]
  },
  {
   "cell_type": "code",
   "execution_count": 79,
   "id": "6c3060ad",
   "metadata": {},
   "outputs": [
    {
     "data": {
      "text/html": [
       "<style>#sk-container-id-6 {color: black;background-color: white;}#sk-container-id-6 pre{padding: 0;}#sk-container-id-6 div.sk-toggleable {background-color: white;}#sk-container-id-6 label.sk-toggleable__label {cursor: pointer;display: block;width: 100%;margin-bottom: 0;padding: 0.3em;box-sizing: border-box;text-align: center;}#sk-container-id-6 label.sk-toggleable__label-arrow:before {content: \"▸\";float: left;margin-right: 0.25em;color: #696969;}#sk-container-id-6 label.sk-toggleable__label-arrow:hover:before {color: black;}#sk-container-id-6 div.sk-estimator:hover label.sk-toggleable__label-arrow:before {color: black;}#sk-container-id-6 div.sk-toggleable__content {max-height: 0;max-width: 0;overflow: hidden;text-align: left;background-color: #f0f8ff;}#sk-container-id-6 div.sk-toggleable__content pre {margin: 0.2em;color: black;border-radius: 0.25em;background-color: #f0f8ff;}#sk-container-id-6 input.sk-toggleable__control:checked~div.sk-toggleable__content {max-height: 200px;max-width: 100%;overflow: auto;}#sk-container-id-6 input.sk-toggleable__control:checked~label.sk-toggleable__label-arrow:before {content: \"▾\";}#sk-container-id-6 div.sk-estimator input.sk-toggleable__control:checked~label.sk-toggleable__label {background-color: #d4ebff;}#sk-container-id-6 div.sk-label input.sk-toggleable__control:checked~label.sk-toggleable__label {background-color: #d4ebff;}#sk-container-id-6 input.sk-hidden--visually {border: 0;clip: rect(1px 1px 1px 1px);clip: rect(1px, 1px, 1px, 1px);height: 1px;margin: -1px;overflow: hidden;padding: 0;position: absolute;width: 1px;}#sk-container-id-6 div.sk-estimator {font-family: monospace;background-color: #f0f8ff;border: 1px dotted black;border-radius: 0.25em;box-sizing: border-box;margin-bottom: 0.5em;}#sk-container-id-6 div.sk-estimator:hover {background-color: #d4ebff;}#sk-container-id-6 div.sk-parallel-item::after {content: \"\";width: 100%;border-bottom: 1px solid gray;flex-grow: 1;}#sk-container-id-6 div.sk-label:hover label.sk-toggleable__label {background-color: #d4ebff;}#sk-container-id-6 div.sk-serial::before {content: \"\";position: absolute;border-left: 1px solid gray;box-sizing: border-box;top: 0;bottom: 0;left: 50%;z-index: 0;}#sk-container-id-6 div.sk-serial {display: flex;flex-direction: column;align-items: center;background-color: white;padding-right: 0.2em;padding-left: 0.2em;position: relative;}#sk-container-id-6 div.sk-item {position: relative;z-index: 1;}#sk-container-id-6 div.sk-parallel {display: flex;align-items: stretch;justify-content: center;background-color: white;position: relative;}#sk-container-id-6 div.sk-item::before, #sk-container-id-6 div.sk-parallel-item::before {content: \"\";position: absolute;border-left: 1px solid gray;box-sizing: border-box;top: 0;bottom: 0;left: 50%;z-index: -1;}#sk-container-id-6 div.sk-parallel-item {display: flex;flex-direction: column;z-index: 1;position: relative;background-color: white;}#sk-container-id-6 div.sk-parallel-item:first-child::after {align-self: flex-end;width: 50%;}#sk-container-id-6 div.sk-parallel-item:last-child::after {align-self: flex-start;width: 50%;}#sk-container-id-6 div.sk-parallel-item:only-child::after {width: 0;}#sk-container-id-6 div.sk-dashed-wrapped {border: 1px dashed gray;margin: 0 0.4em 0.5em 0.4em;box-sizing: border-box;padding-bottom: 0.4em;background-color: white;}#sk-container-id-6 div.sk-label label {font-family: monospace;font-weight: bold;display: inline-block;line-height: 1.2em;}#sk-container-id-6 div.sk-label-container {text-align: center;}#sk-container-id-6 div.sk-container {/* jupyter's `normalize.less` sets `[hidden] { display: none; }` but bootstrap.min.css set `[hidden] { display: none !important; }` so we also need the `!important` here to be able to override the default hidden behavior on the sphinx rendered scikit-learn.org. See: https://github.com/scikit-learn/scikit-learn/issues/21755 */display: inline-block !important;position: relative;}#sk-container-id-6 div.sk-text-repr-fallback {display: none;}</style><div id=\"sk-container-id-6\" class=\"sk-top-container\"><div class=\"sk-text-repr-fallback\"><pre>GradientBoostingClassifier()</pre><b>In a Jupyter environment, please rerun this cell to show the HTML representation or trust the notebook. <br />On GitHub, the HTML representation is unable to render, please try loading this page with nbviewer.org.</b></div><div class=\"sk-container\" hidden><div class=\"sk-item\"><div class=\"sk-estimator sk-toggleable\"><input class=\"sk-toggleable__control sk-hidden--visually\" id=\"sk-estimator-id-6\" type=\"checkbox\" checked><label for=\"sk-estimator-id-6\" class=\"sk-toggleable__label sk-toggleable__label-arrow\">GradientBoostingClassifier</label><div class=\"sk-toggleable__content\"><pre>GradientBoostingClassifier()</pre></div></div></div></div></div>"
      ],
      "text/plain": [
       "GradientBoostingClassifier()"
      ]
     },
     "execution_count": 79,
     "metadata": {},
     "output_type": "execute_result"
    }
   ],
   "source": [
    "#GradientBoostingClassifier\n",
    "GB=algo_credit3\n",
    "GB.fit(x_train, y_train)"
   ]
  },
  {
   "cell_type": "code",
   "execution_count": 80,
   "id": "8b361dd1",
   "metadata": {},
   "outputs": [
    {
     "data": {
      "text/plain": [
       "0.8247566063977747"
      ]
     },
     "execution_count": 80,
     "metadata": {},
     "output_type": "execute_result"
    }
   ],
   "source": [
    "predictions = GB.predict(x_test)\n",
    "GB.score(x_test, y_test)"
   ]
  },
  {
   "cell_type": "markdown",
   "id": "bf69ff4b",
   "metadata": {},
   "source": [
    "# 2. Predicting Accuracy with DT, RFC and GBC Limit_Bal as dependant 5 Bins, acc ~ 32"
   ]
  },
  {
   "cell_type": "code",
   "execution_count": 82,
   "id": "e9a7077f",
   "metadata": {},
   "outputs": [
    {
     "data": {
      "text/plain": [
       "Index(['Limit_Bal', 'Marriage', 'Age', 'Status_Sept', 'Status_Aug',\n",
       "       'Status_Jul', 'Status_Jun', 'Status_May', 'Status_Apr', 'Bill_Sept',\n",
       "       'Bill_Aug', 'Bill_Jul', 'Bill_Jun', 'Bill_May', 'Bill_Apr', 'Pay_Sept',\n",
       "       'Pay_Aug', 'Pay_Jul', 'Pay_Jun', 'Pay_May', 'Pay_Apr', 'Sex_female',\n",
       "       'Sex_male', 'Education_graduate school', 'Education_high school',\n",
       "       'Education_other', 'Education_university', 'Default_Status_default',\n",
       "       'Default_Status_not default'],\n",
       "      dtype='object')"
      ]
     },
     "execution_count": 82,
     "metadata": {},
     "output_type": "execute_result"
    }
   ],
   "source": [
    "credit.dtypes.index"
   ]
  },
  {
   "cell_type": "code",
   "execution_count": 125,
   "id": "dc5d9afd",
   "metadata": {},
   "outputs": [
    {
     "ename": "SyntaxError",
     "evalue": "unterminated string literal (detected at line 2) (3376556221.py, line 2)",
     "output_type": "error",
     "traceback": [
      "\u001b[1;36m  Input \u001b[1;32mIn [125]\u001b[1;36m\u001b[0m\n\u001b[1;33m    XMA = credit[['Marriage','Sex_female','Sex_male', 'Age','Education_graduate school','Education_high school','Education_other','Education_university]]\u001b[0m\n\u001b[1;37m                                                                                                                                  ^\u001b[0m\n\u001b[1;31mSyntaxError\u001b[0m\u001b[1;31m:\u001b[0m unterminated string literal (detected at line 2)\n"
     ]
    }
   ],
   "source": [
    "#features\n",
    "XMA = credit[['Marriage','Sex_female','Sex_male', 'Age','Education_graduate school','Education_high school','Education_other','Education_university']]\n",
    "print('Summary of feature sample')\n",
    "X.head()"
   ]
  },
  {
   "cell_type": "code",
   "execution_count": 126,
   "id": "a4405d2c",
   "metadata": {},
   "outputs": [],
   "source": [
    "yMA = credit['Limit_Bal']"
   ]
  },
  {
   "cell_type": "code",
   "execution_count": 127,
   "id": "ebc3e2f5",
   "metadata": {},
   "outputs": [
    {
     "data": {
      "text/plain": [
       "Text(0.5, 0, 'Balance Limit')"
      ]
     },
     "execution_count": 127,
     "metadata": {},
     "output_type": "execute_result"
    },
    {
     "data": {
      "image/png": "[encoded data removed]",
      "text/plain": [
       "<Figure size 800x550 with 1 Axes>"
      ]
     },
     "metadata": {},
     "output_type": "display_data"
    }
   ],
   "source": [
    "pd.DataFrame(yMA).hist(bins=6)\n",
    "plt.ticklabel_format(useOffset=False, style='plain')\n",
    "plt.xlabel('Balance Limit') "
   ]
  },
  {
   "cell_type": "code",
   "execution_count": 128,
   "id": "5389db3d",
   "metadata": {},
   "outputs": [],
   "source": [
    "cut_labels = ['10,000', '50,000', '140,000', '230,000', '1.000,000']\n",
    "cut_bins = [0, 10000, 50000, 140000, 230000, 1000000]\n",
    "yMA= pd.cut(credit['Limit_Bal'], bins=cut_bins, labels=cut_labels)"
   ]
  },
  {
   "cell_type": "code",
   "execution_count": 129,
   "id": "58efd44e",
   "metadata": {},
   "outputs": [
    {
     "data": {
      "text/plain": [
       "<AxesSubplot:>"
      ]
     },
     "execution_count": 129,
     "metadata": {},
     "output_type": "execute_result"
    },
    {
     "data": {
      "image/png": "[encoded data removed]",
      "text/plain": [
       "<Figure size 800x550 with 1 Axes>"
      ]
     },
     "metadata": {},
     "output_type": "display_data"
    }
   ],
   "source": [
    "yMA.hist()"
   ]
  },
  {
   "cell_type": "code",
   "execution_count": 130,
   "id": "d1d35747",
   "metadata": {},
   "outputs": [],
   "source": [
    "yMA = yMA.cat.codes"
   ]
  },
  {
   "cell_type": "code",
   "execution_count": 131,
   "id": "1e635963",
   "metadata": {},
   "outputs": [],
   "source": [
    "yMA = yMA.values.reshape(-1,1)"
   ]
  },
  {
   "cell_type": "code",
   "execution_count": 132,
   "id": "30b10e8e",
   "metadata": {},
   "outputs": [],
   "source": [
    "#train test split\n",
    "x_train, x_test, y_train, y_test = train_test_split(XMA, yMA,test_size = 0.3, random_state=123)\n"
   ]
  },
  {
   "cell_type": "code",
   "execution_count": 134,
   "id": "79d2e5f2",
   "metadata": {},
   "outputs": [
    {
     "name": "stdout",
     "output_type": "stream",
     "text": [
      "              precision    recall  f1-score   support\n",
      "\n",
      "           0       1.00      0.00      0.00         7\n",
      "           1       0.35      0.36      0.36       173\n",
      "           2       0.25      0.22      0.24       190\n",
      "           3       0.22      0.15      0.18       180\n",
      "           4       0.31      0.46      0.37       169\n",
      "\n",
      "    accuracy                           0.29       719\n",
      "   macro avg       0.43      0.24      0.23       719\n",
      "weighted avg       0.29      0.29      0.28       719\n",
      "\n"
     ]
    }
   ],
   "source": [
    "#DecisionTreeClassifier\n",
    "algo_MA1= DecisionTreeClassifier(max_depth=10, )\n",
    "model_MA1 = algo_MA1.fit(x_train,y_train)\n",
    "#Predictions\n",
    "preds_MA1 = algo_MA1.predict(x_test)\n",
    "print(classification_report(y_test, preds_MA1,zero_division=1))"
   ]
  },
  {
   "cell_type": "code",
   "execution_count": 135,
   "id": "1e79c42e",
   "metadata": {},
   "outputs": [
    {
     "name": "stdout",
     "output_type": "stream",
     "text": [
      "              precision    recall  f1-score   support\n",
      "\n",
      "           0       1.00      0.00      0.00         7\n",
      "           1       0.36      0.34      0.35       173\n",
      "           2       0.26      0.23      0.24       190\n",
      "           3       0.23      0.18      0.20       180\n",
      "           4       0.32      0.47      0.38       169\n",
      "\n",
      "    accuracy                           0.30       719\n",
      "   macro avg       0.43      0.24      0.23       719\n",
      "weighted avg       0.30      0.30      0.29       719\n",
      "\n"
     ]
    }
   ],
   "source": [
    "#RandomForestClassifier\n",
    "algo_MA2= RandomForestClassifier(max_depth=20, )\n",
    "model_MA2 = algo_MA2.fit(x_train,y_train.ravel())\n",
    "#Predictions\n",
    "preds_MA2 = algo_MA2.predict(x_test)\n",
    "print(classification_report(y_test, preds_MA2,zero_division=1))"
   ]
  },
  {
   "cell_type": "code",
   "execution_count": 136,
   "id": "e4bdb21a",
   "metadata": {},
   "outputs": [
    {
     "name": "stdout",
     "output_type": "stream",
     "text": [
      "              precision    recall  f1-score   support\n",
      "\n",
      "           0       1.00      0.00      0.00         7\n",
      "           1       0.38      0.38      0.38       173\n",
      "           2       0.30      0.23      0.26       190\n",
      "           3       0.17      0.08      0.11       180\n",
      "           4       0.28      0.53      0.37       169\n",
      "\n",
      "    accuracy                           0.30       719\n",
      "   macro avg       0.43      0.24      0.22       719\n",
      "weighted avg       0.29      0.30      0.27       719\n",
      "\n"
     ]
    }
   ],
   "source": [
    "#RandomForestClassifier\n",
    "algo_MA3= GradientBoostingClassifier() \n",
    "model_MA3 = algo_MA3.fit(x_train,y_train.ravel())\n",
    "#Predictions\n",
    "preds_MA3 = algo_MA3.predict(x_test)\n",
    "print(classification_report(y_test, preds_MA3,zero_division=1))"
   ]
  },
  {
   "cell_type": "code",
   "execution_count": 138,
   "id": "c6d9be34",
   "metadata": {},
   "outputs": [
    {
     "name": "stdout",
     "output_type": "stream",
     "text": [
      "[0.29791667 0.3006263  0.33611691 0.34029228 0.29853862]\n"
     ]
    }
   ],
   "source": [
    "print(cross_val_score(model_MA1, XMA, yMA.ravel(), cv=5 )) # cv = number of folds being held out"
   ]
  },
  {
   "cell_type": "code",
   "execution_count": 139,
   "id": "5aec8634",
   "metadata": {},
   "outputs": [],
   "source": [
    "algos_Class = []\n",
    "algos_Class.append(('Random Forest Classifier', RandomForestClassifier()))\n",
    "algos_Class.append(('Decision Tree Classifier', DecisionTreeClassifier()))\n",
    "algos_Class.append(('Gradient Bossting Class', GradientBoostingClassifier()))"
   ]
  },
  {
   "cell_type": "code",
   "execution_count": 140,
   "id": "5ba62c93",
   "metadata": {},
   "outputs": [
    {
     "data": {
      "text/plain": [
       "[('Random Forest Classifier', RandomForestClassifier()),\n",
       " ('Decision Tree Classifier', DecisionTreeClassifier()),\n",
       " ('Gradient Bossting Class', GradientBoostingClassifier())]"
      ]
     },
     "execution_count": 140,
     "metadata": {},
     "output_type": "execute_result"
    }
   ],
   "source": [
    "algos_Class"
   ]
  },
  {
   "cell_type": "code",
   "execution_count": 141,
   "id": "a436a333",
   "metadata": {},
   "outputs": [],
   "source": [
    "#classification\n",
    "results = []\n",
    "names = []\n",
    "for name, model in algos_Class:\n",
    "    result = cross_val_score(model, XMA,yMA.ravel())\n",
    "    results.append(result)\n",
    "    names.append(name)"
   ]
  },
  {
   "cell_type": "code",
   "execution_count": 142,
   "id": "4776e700",
   "metadata": {},
   "outputs": [
    {
     "name": "stdout",
     "output_type": "stream",
     "text": [
      "Random Forest Classifier 0.3167814892136395\n",
      "Decision Tree Classifier 0.316365692414753\n",
      "Gradient Bossting Class 0.3284742519137091\n"
     ]
    }
   ],
   "source": [
    "for i in range(len(names)):\n",
    "    print(names[i],results[i].mean())"
   ]
  },
  {
   "cell_type": "markdown",
   "id": "4108bd7d",
   "metadata": {},
   "source": [
    "# Changing labels differently for the same algorithms"
   ]
  },
  {
   "cell_type": "code",
   "execution_count": 145,
   "id": "cd543f39",
   "metadata": {},
   "outputs": [],
   "source": [
    "cut_labels = ['10K-180K', '180K-300K','300K-450K', '45OK-600K', '600K-1MIL']\n",
    "cut_bins = [9999, 180000, 300000,450000, 600000,1000000]\n",
    "yMA= pd.cut(credit['Limit_Bal'], bins=cut_bins, labels=cut_labels)"
   ]
  },
  {
   "cell_type": "code",
   "execution_count": 147,
   "id": "c46e50fc",
   "metadata": {},
   "outputs": [],
   "source": [
    "#train test split\n",
    "x_train, x_test, y_train, y_test = train_test_split(XMA, yMA,test_size = 0.3, random_state=123)"
   ]
  },
  {
   "cell_type": "code",
   "execution_count": 148,
   "id": "d6bc21f5",
   "metadata": {},
   "outputs": [
    {
     "name": "stdout",
     "output_type": "stream",
     "text": [
      "              precision    recall  f1-score   support\n",
      "\n",
      "    10K-180K       0.62      0.96      0.75       444\n",
      "   180K-300K       0.20      0.03      0.05       172\n",
      "   300K-450K       0.00      0.00      0.00        76\n",
      "   45OK-600K       0.00      0.00      0.00        25\n",
      "   600K-1MIL       1.00      0.00      0.00         2\n",
      "\n",
      "    accuracy                           0.60       719\n",
      "   macro avg       0.36      0.20      0.16       719\n",
      "weighted avg       0.43      0.60      0.48       719\n",
      "\n"
     ]
    }
   ],
   "source": [
    "#DecisionTreeClassifier\n",
    "algo_MA1= DecisionTreeClassifier(max_depth=20, )\n",
    "model_MA1 = algo_MA1.fit(x_train,y_train)\n",
    "#Predictions\n",
    "preds_MA1 = algo_MA1.predict(x_test)\n",
    "print(classification_report(y_test, preds_MA1,zero_division=1))"
   ]
  },
  {
   "cell_type": "code",
   "execution_count": 149,
   "id": "aed298e4",
   "metadata": {},
   "outputs": [
    {
     "name": "stdout",
     "output_type": "stream",
     "text": [
      "              precision    recall  f1-score   support\n",
      "\n",
      "    10K-180K       0.62      0.93      0.74       444\n",
      "   180K-300K       0.25      0.08      0.12       172\n",
      "   300K-450K       0.00      0.00      0.00        76\n",
      "   45OK-600K       0.00      0.00      0.00        25\n",
      "   600K-1MIL       1.00      0.00      0.00         2\n",
      "\n",
      "    accuracy                           0.59       719\n",
      "   macro avg       0.37      0.20      0.17       719\n",
      "weighted avg       0.44      0.59      0.49       719\n",
      "\n"
     ]
    }
   ],
   "source": [
    "#RandomForestClassifier\n",
    "algo_MA2= RandomForestClassifier(max_depth=20, )\n",
    "model_MA2 = algo_MA2.fit(x_train,y_train.ravel())\n",
    "#Predictions\n",
    "preds_MA2 = algo_MA2.predict(x_test)\n",
    "print(classification_report(y_test, preds_MA2,zero_division=1))"
   ]
  },
  {
   "cell_type": "code",
   "execution_count": 150,
   "id": "375874c2",
   "metadata": {},
   "outputs": [
    {
     "name": "stdout",
     "output_type": "stream",
     "text": [
      "              precision    recall  f1-score   support\n",
      "\n",
      "    10K-180K       0.62      0.97      0.75       444\n",
      "   180K-300K       0.19      0.02      0.04       172\n",
      "   300K-450K       0.00      0.00      0.00        76\n",
      "   45OK-600K       1.00      0.00      0.00        25\n",
      "   600K-1MIL       1.00      0.00      0.00         2\n",
      "\n",
      "    accuracy                           0.60       719\n",
      "   macro avg       0.56      0.20      0.16       719\n",
      "weighted avg       0.46      0.60      0.47       719\n",
      "\n"
     ]
    }
   ],
   "source": [
    "#RandomForestClassifier\n",
    "algo_MA3= GradientBoostingClassifier() \n",
    "model_MA3 = algo_MA3.fit(x_train,y_train.ravel())\n",
    "#Predictions\n",
    "preds_MA3 = algo_MA3.predict(x_test)\n",
    "print(classification_report(y_test, preds_MA3,zero_division=1))"
   ]
  },
  {
   "cell_type": "code",
   "execution_count": 151,
   "id": "96e30e71",
   "metadata": {},
   "outputs": [
    {
     "name": "stdout",
     "output_type": "stream",
     "text": [
      "[0.62083333 0.61169102 0.60960334 0.60542797 0.60334029]\n"
     ]
    }
   ],
   "source": [
    "print(cross_val_score(model_MA1, XMA, yMA.ravel(), cv=5 )) # cv = number of folds being held out"
   ]
  },
  {
   "cell_type": "code",
   "execution_count": 152,
   "id": "141dc157",
   "metadata": {},
   "outputs": [],
   "source": [
    "algos_Class = []\n",
    "algos_Class.append(('Random Forest Classifier', RandomForestClassifier()))\n",
    "algos_Class.append(('Decision Tree Classifier', DecisionTreeClassifier()))\n",
    "algos_Class.append(('Gradient Bossting Class', GradientBoostingClassifier()))"
   ]
  },
  {
   "cell_type": "code",
   "execution_count": 153,
   "id": "9ed7cea9",
   "metadata": {},
   "outputs": [
    {
     "data": {
      "text/plain": [
       "[('Random Forest Classifier', RandomForestClassifier()),\n",
       " ('Decision Tree Classifier', DecisionTreeClassifier()),\n",
       " ('Gradient Bossting Class', GradientBoostingClassifier())]"
      ]
     },
     "execution_count": 153,
     "metadata": {},
     "output_type": "execute_result"
    }
   ],
   "source": [
    "algos_Class"
   ]
  },
  {
   "cell_type": "code",
   "execution_count": 154,
   "id": "f829137d",
   "metadata": {},
   "outputs": [],
   "source": [
    "#classification\n",
    "results = []\n",
    "names = []\n",
    "for name, model in algos_Class:\n",
    "    result = cross_val_score(model, XMA,yMA.ravel())\n",
    "    results.append(result)\n",
    "    names.append(name)"
   ]
  },
  {
   "cell_type": "code",
   "execution_count": 155,
   "id": "46b921c9",
   "metadata": {},
   "outputs": [
    {
     "name": "stdout",
     "output_type": "stream",
     "text": [
      "Random Forest Classifier 0.6039231036882394\n",
      "Decision Tree Classifier 0.6101791927627\n",
      "Gradient Bossting Class 0.6181132567849686\n"
     ]
    }
   ],
   "source": [
    "for i in range(len(names)):\n",
    "    print(names[i],results[i].mean())"
   ]
  },
  {
   "cell_type": "markdown",
   "id": "eab9415c",
   "metadata": {},
   "source": [
    "# Predictive"
   ]
  },
  {
   "cell_type": "code",
   "execution_count": 156,
   "id": "8cfc5668",
   "metadata": {},
   "outputs": [
    {
     "data": {
      "text/plain": [
       "0.5994436717663422"
      ]
     },
     "execution_count": 156,
     "metadata": {},
     "output_type": "execute_result"
    }
   ],
   "source": [
    "#DecisionTreeClassifier\n",
    "DT=algo_MA1\n",
    "DT.fit(x_train, y_train)\n",
    "predictions = DT.predict(x_test)\n",
    "DT.score(x_test, y_test)"
   ]
  },
  {
   "cell_type": "code",
   "execution_count": 157,
   "id": "0ab7006f",
   "metadata": {},
   "outputs": [
    {
     "data": {
      "text/plain": [
       "0.588317107093185"
      ]
     },
     "execution_count": 157,
     "metadata": {},
     "output_type": "execute_result"
    }
   ],
   "source": [
    "#RandomForestClassifier\n",
    "RF=algo_MA2\n",
    "RF.fit(x_train, y_train.ravel())\n",
    "predictions = RF.predict(x_test)\n",
    "RF.score(x_test, y_test)"
   ]
  },
  {
   "cell_type": "code",
   "execution_count": 158,
   "id": "fca408ed",
   "metadata": {},
   "outputs": [
    {
     "data": {
      "text/plain": [
       "0.6022253129346314"
      ]
     },
     "execution_count": 158,
     "metadata": {},
     "output_type": "execute_result"
    }
   ],
   "source": [
    "#GradientBoostingClassifier\n",
    "GB=algo_MA3\n",
    "GB.fit(x_train, y_train.ravel())\n",
    "predictions = GB.predict(x_test)\n",
    "GB.score(x_test, y_test)"
   ]
  },
  {
   "cell_type": "markdown",
   "id": "bc562abf",
   "metadata": {},
   "source": [
    "# 2 Predicting Accuracy with DT, RFC and GBC, Limit_Bal as dependant, 5 bins Acc ~ 62"
   ]
  },
  {
   "cell_type": "code",
   "execution_count": 159,
   "id": "3e9a5c6c",
   "metadata": {},
   "outputs": [],
   "source": [
    "XL= credit[['Default_Status_default','Marriage', 'Age']]\n",
    "yL = credit['Limit_Bal']"
   ]
  },
  {
   "cell_type": "code",
   "execution_count": 160,
   "id": "fbd2340a",
   "metadata": {},
   "outputs": [
    {
     "data": {
      "text/plain": [
       "Text(0.5, 0, 'Balance Limit')"
      ]
     },
     "execution_count": 160,
     "metadata": {},
     "output_type": "execute_result"
    },
    {
     "data": {
      "image/png": "[encoded data removed]",
      "text/plain": [
       "<Figure size 800x550 with 1 Axes>"
      ]
     },
     "metadata": {},
     "output_type": "display_data"
    }
   ],
   "source": [
    "pd.DataFrame(yL).hist(bins=6)\n",
    "plt.ticklabel_format(useOffset=False, style='plain')\n",
    "plt.xlabel('Balance Limit') "
   ]
  },
  {
   "cell_type": "code",
   "execution_count": 161,
   "id": "a9cc63b3",
   "metadata": {},
   "outputs": [],
   "source": [
    "yL= pd.cut(yL, bins=[9999, 180000, 300000,450000, 600000,1000000], \n",
    "           labels = ['10K-180K', '180K-300K','300K-450K', '45OK-600K', '600K-1MIL'])"
   ]
  },
  {
   "cell_type": "code",
   "execution_count": 162,
   "id": "7c04c04a",
   "metadata": {},
   "outputs": [
    {
     "data": {
      "text/plain": [
       "<AxesSubplot:>"
      ]
     },
     "execution_count": 162,
     "metadata": {},
     "output_type": "execute_result"
    },
    {
     "data": {
      "image/png": "[encoded data removed]",
      "text/plain": [
       "<Figure size 800x550 with 1 Axes>"
      ]
     },
     "metadata": {},
     "output_type": "display_data"
    }
   ],
   "source": [
    "yL.hist()"
   ]
  },
  {
   "cell_type": "code",
   "execution_count": 163,
   "id": "34a5f2f8",
   "metadata": {},
   "outputs": [],
   "source": [
    "#train test split\n",
    "x_train, x_test, y_train, y_test = train_test_split(XL, yL,test_size = 0.3, random_state=123)"
   ]
  },
  {
   "cell_type": "code",
   "execution_count": 164,
   "id": "5de2a02c",
   "metadata": {},
   "outputs": [
    {
     "name": "stdout",
     "output_type": "stream",
     "text": [
      "              precision    recall  f1-score   support\n",
      "\n",
      "    10K-180K       0.62      0.92      0.74       444\n",
      "   180K-300K       0.29      0.10      0.15       172\n",
      "   300K-450K       0.00      0.00      0.00        76\n",
      "   45OK-600K       0.00      0.00      0.00        25\n",
      "   600K-1MIL       1.00      0.00      0.00         2\n",
      "\n",
      "    accuracy                           0.59       719\n",
      "   macro avg       0.38      0.20      0.18       719\n",
      "weighted avg       0.46      0.59      0.50       719\n",
      "\n"
     ]
    }
   ],
   "source": [
    "#DecisionTreeClassifier\n",
    "algo_LB1= DecisionTreeClassifier(max_depth=20, )\n",
    "model_LB1 = algo_LB1.fit(x_train,y_train)\n",
    "#Predictions\n",
    "preds_LB1 = algo_LB1.predict(x_test)\n",
    "print(classification_report(y_test, preds_LB1, zero_division=1))"
   ]
  },
  {
   "cell_type": "code",
   "execution_count": 165,
   "id": "179b564d",
   "metadata": {},
   "outputs": [
    {
     "name": "stdout",
     "output_type": "stream",
     "text": [
      "              precision    recall  f1-score   support\n",
      "\n",
      "    10K-180K       0.63      0.89      0.73       444\n",
      "   180K-300K       0.26      0.12      0.17       172\n",
      "   300K-450K       0.20      0.01      0.02        76\n",
      "   45OK-600K       0.00      0.00      0.00        25\n",
      "   600K-1MIL       1.00      0.00      0.00         2\n",
      "\n",
      "    accuracy                           0.58       719\n",
      "   macro avg       0.42      0.20      0.18       719\n",
      "weighted avg       0.47      0.58      0.50       719\n",
      "\n"
     ]
    }
   ],
   "source": [
    "#RandomForestClassifier\n",
    "algo_LB2= RandomForestClassifier(max_depth=20, )\n",
    "model_LB2 = algo_LB2.fit(x_train,y_train)\n",
    "#Predictions\n",
    "preds_LB2 = algo_LB2.predict(x_test)\n",
    "print(classification_report(y_test, preds_LB2, zero_division=1))"
   ]
  },
  {
   "cell_type": "code",
   "execution_count": 166,
   "id": "18255ad8",
   "metadata": {},
   "outputs": [
    {
     "name": "stdout",
     "output_type": "stream",
     "text": [
      "              precision    recall  f1-score   support\n",
      "\n",
      "    10K-180K       0.62      0.98      0.76       444\n",
      "   180K-300K       0.27      0.02      0.04       172\n",
      "   300K-450K       0.00      0.00      0.00        76\n",
      "   45OK-600K       1.00      0.00      0.00        25\n",
      "   600K-1MIL       1.00      0.00      0.00         2\n",
      "\n",
      "    accuracy                           0.61       719\n",
      "   macro avg       0.58      0.20      0.16       719\n",
      "weighted avg       0.48      0.61      0.48       719\n",
      "\n"
     ]
    }
   ],
   "source": [
    "#GradientBoostingClassifier\n",
    "algo_LB3= GradientBoostingClassifier( )\n",
    "model_LB3 = algo_LB3.fit(x_train,y_train)\n",
    "#Predictions\n",
    "preds_LB3 = algo_LB3.predict(x_test)\n",
    "print(classification_report(y_test, preds_LB3,zero_division=1))"
   ]
  },
  {
   "cell_type": "code",
   "execution_count": 167,
   "id": "99544224",
   "metadata": {},
   "outputs": [
    {
     "name": "stdout",
     "output_type": "stream",
     "text": [
      "[0.60208333 0.60542797 0.60960334 0.59916493 0.60334029]\n"
     ]
    }
   ],
   "source": [
    "print(cross_val_score(model_LB1, XL, yL )) # cv = number of folds being held out"
   ]
  },
  {
   "cell_type": "code",
   "execution_count": 169,
   "id": "ccecae10",
   "metadata": {},
   "outputs": [
    {
     "data": {
      "text/plain": [
       "[('Random Forest Classifier', RandomForestClassifier()),\n",
       " ('Decision Tree Classifier', DecisionTreeClassifier()),\n",
       " ('Gradient Bossting Class', GradientBoostingClassifier())]"
      ]
     },
     "execution_count": 169,
     "metadata": {},
     "output_type": "execute_result"
    }
   ],
   "source": [
    "algos_Class = []\n",
    "algos_Class.append(('Random Forest Classifier', RandomForestClassifier()))\n",
    "algos_Class.append(('Decision Tree Classifier', DecisionTreeClassifier()))\n",
    "algos_Class.append(('Gradient Bossting Class', GradientBoostingClassifier()))\n",
    "algos_Class"
   ]
  },
  {
   "cell_type": "code",
   "execution_count": 170,
   "id": "447113c1",
   "metadata": {},
   "outputs": [],
   "source": [
    "#classification\n",
    "results = []\n",
    "names = []\n",
    "for name, model in algos_Class:\n",
    "    result = cross_val_score(model, XL,yL)\n",
    "    results.append(result)\n",
    "    names.append(name)"
   ]
  },
  {
   "cell_type": "code",
   "execution_count": 171,
   "id": "c357c785",
   "metadata": {},
   "outputs": [
    {
     "name": "stdout",
     "output_type": "stream",
     "text": [
      "Random Forest Classifier 0.6001678844815588\n",
      "Decision Tree Classifier 0.6039239735560196\n",
      "Gradient Bossting Class 0.6135273138482951\n"
     ]
    }
   ],
   "source": [
    "for i in range(len(names)):\n",
    "    print(names[i],results[i].mean())"
   ]
  },
  {
   "cell_type": "markdown",
   "id": "ed709ad5",
   "metadata": {},
   "source": [
    "# Predictive Variables"
   ]
  },
  {
   "cell_type": "code",
   "execution_count": 172,
   "id": "240bcb10",
   "metadata": {},
   "outputs": [
    {
     "data": {
      "text/plain": [
       "0.5924895688456189"
      ]
     },
     "execution_count": 172,
     "metadata": {},
     "output_type": "execute_result"
    }
   ],
   "source": [
    "#DecisionTreeClassifier\n",
    "DT=algo_LB1\n",
    "DT.fit(x_train, y_train)\n",
    "\n",
    "predictions = DT.predict(x_test)\n",
    "DT.score(x_test, y_test)"
   ]
  },
  {
   "cell_type": "code",
   "execution_count": 173,
   "id": "79963686",
   "metadata": {},
   "outputs": [
    {
     "data": {
      "text/plain": [
       "0.5730180806675939"
      ]
     },
     "execution_count": 173,
     "metadata": {},
     "output_type": "execute_result"
    }
   ],
   "source": [
    "#RandomForestClassifier\n",
    "RF=algo_LB2\n",
    "RF.fit(x_train, y_train)\n",
    "\n",
    "predictions = RF.predict(x_test)\n",
    "RF.score(x_test, y_test)"
   ]
  },
  {
   "cell_type": "code",
   "execution_count": 174,
   "id": "c55d67eb",
   "metadata": {},
   "outputs": [
    {
     "data": {
      "text/plain": [
       "0.60778859527121"
      ]
     },
     "execution_count": 174,
     "metadata": {},
     "output_type": "execute_result"
    }
   ],
   "source": [
    "#GradientBoostingClassifier\n",
    "GB=algo_LB3\n",
    "GB.fit(x_train, y_train)\n",
    "\n",
    "predictions = GB.predict(x_test)\n",
    "GB.score(x_test, y_test)"
   ]
  },
  {
   "cell_type": "markdown",
   "id": "46a0f3a3",
   "metadata": {},
   "source": [
    "# 3. Predicting Accuracy with DT, RFC and GBC, Limit_Bal as dependant, 7 bins, independant a lot Acc . 62"
   ]
  },
  {
   "cell_type": "code",
   "execution_count": 176,
   "id": "ff0aab68",
   "metadata": {},
   "outputs": [
    {
     "data": {
      "text/plain": [
       "Index(['Limit_Bal', 'Marriage', 'Age', 'Status_Sept', 'Status_Aug',\n",
       "       'Status_Jul', 'Status_Jun', 'Status_May', 'Status_Apr', 'Bill_Sept',\n",
       "       'Bill_Aug', 'Bill_Jul', 'Bill_Jun', 'Bill_May', 'Bill_Apr', 'Pay_Sept',\n",
       "       'Pay_Aug', 'Pay_Jul', 'Pay_Jun', 'Pay_May', 'Pay_Apr', 'Sex_female',\n",
       "       'Sex_male', 'Education_graduate school', 'Education_high school',\n",
       "       'Education_other', 'Education_university', 'Default_Status_default',\n",
       "       'Default_Status_not default'],\n",
       "      dtype='object')"
      ]
     },
     "execution_count": 176,
     "metadata": {},
     "output_type": "execute_result"
    }
   ],
   "source": [
    "credit.dtypes.index"
   ]
  },
  {
   "cell_type": "code",
   "execution_count": 177,
   "id": "04203564",
   "metadata": {},
   "outputs": [],
   "source": [
    "\n",
    "\n",
    "#features\n",
    "XL1 = credit[['Marriage', 'Age', 'Sex_female',\n",
    "       'Sex_male', 'Education_graduate school', 'Education_high school',\n",
    "       'Education_other', 'Education_university',\n",
    "       'Default_Status_default']]"
   ]
  },
  {
   "cell_type": "code",
   "execution_count": 178,
   "id": "034bc11f",
   "metadata": {},
   "outputs": [],
   "source": [
    "yL1 = credit['Limit_Bal']"
   ]
  },
  {
   "cell_type": "code",
   "execution_count": 179,
   "id": "dc9e39b3",
   "metadata": {},
   "outputs": [
    {
     "data": {
      "text/plain": [
       "Text(0.5, 0, 'Balance Limit')"
      ]
     },
     "execution_count": 179,
     "metadata": {},
     "output_type": "execute_result"
    },
    {
     "data": {
      "image/png": "[encoded data removed]",
      "text/plain": [
       "<Figure size 800x550 with 1 Axes>"
      ]
     },
     "metadata": {},
     "output_type": "display_data"
    }
   ],
   "source": [
    "pd.DataFrame(yL1).hist(bins=6)\n",
    "plt.ticklabel_format(useOffset=False, style='plain')\n",
    "plt.xlabel('Balance Limit') "
   ]
  },
  {
   "cell_type": "code",
   "execution_count": 180,
   "id": "7e219632",
   "metadata": {},
   "outputs": [],
   "source": [
    "yL1= pd.cut(yL1, bins=[9999, 180000, 300000,450000, 600000,1000000],\n",
    "            labels = ['10K-180K', '180K-300K','300K-450K', '45OK-600K', '600K-1MIL'])"
   ]
  },
  {
   "cell_type": "code",
   "execution_count": 181,
   "id": "c2192d04",
   "metadata": {},
   "outputs": [
    {
     "data": {
      "text/plain": [
       "<AxesSubplot:>"
      ]
     },
     "execution_count": 181,
     "metadata": {},
     "output_type": "execute_result"
    },
    {
     "data": {
      "image/png": "[encoded data removed]",
      "text/plain": [
       "<Figure size 800x550 with 1 Axes>"
      ]
     },
     "metadata": {},
     "output_type": "display_data"
    }
   ],
   "source": [
    "yL1.hist()"
   ]
  },
  {
   "cell_type": "code",
   "execution_count": 183,
   "id": "81fd2fec",
   "metadata": {},
   "outputs": [],
   "source": [
    "yL1 = yL1.ravel()"
   ]
  },
  {
   "cell_type": "code",
   "execution_count": 185,
   "id": "1be35f37",
   "metadata": {},
   "outputs": [],
   "source": [
    "#train test split\n",
    "x_train, x_test, y_train, y_test = train_test_split(XL1, yL1,test_size = 0.3, random_state=123)"
   ]
  },
  {
   "cell_type": "code",
   "execution_count": 186,
   "id": "2753d0e3",
   "metadata": {},
   "outputs": [
    {
     "name": "stdout",
     "output_type": "stream",
     "text": [
      "              precision    recall  f1-score   support\n",
      "\n",
      "    10K-180K       0.65      0.84      0.73       444\n",
      "   180K-300K       0.34      0.22      0.26       172\n",
      "   300K-450K       0.19      0.07      0.10        76\n",
      "   45OK-600K       0.00      0.00      0.00        25\n",
      "   600K-1MIL       0.00      0.00      0.00         2\n",
      "\n",
      "    accuracy                           0.58       719\n",
      "   macro avg       0.23      0.22      0.22       719\n",
      "weighted avg       0.50      0.58      0.53       719\n",
      "\n"
     ]
    }
   ],
   "source": [
    "#DecisionTreeClassifier\n",
    "algo_XL1= DecisionTreeClassifier(max_depth=20, )\n",
    "model_XL1 = algo_XL1.fit(x_train,y_train.ravel())\n",
    "#Predictions\n",
    "preds_XL1 = algo_XL1.predict(x_test)\n",
    "print(classification_report(y_test, preds_XL1, zero_division=1))"
   ]
  },
  {
   "cell_type": "code",
   "execution_count": 187,
   "id": "97e2b1f0",
   "metadata": {},
   "outputs": [
    {
     "name": "stdout",
     "output_type": "stream",
     "text": [
      "              precision    recall  f1-score   support\n",
      "\n",
      "    10K-180K       0.65      0.80      0.72       444\n",
      "   180K-300K       0.30      0.22      0.26       172\n",
      "   300K-450K       0.16      0.09      0.12        76\n",
      "   45OK-600K       0.00      0.00      0.00        25\n",
      "   600K-1MIL       0.00      0.00      0.00         2\n",
      "\n",
      "    accuracy                           0.56       719\n",
      "   macro avg       0.22      0.22      0.22       719\n",
      "weighted avg       0.49      0.56      0.52       719\n",
      "\n"
     ]
    }
   ],
   "source": [
    "#RandomForestClassifier\n",
    "algo_XL2= RandomForestClassifier(max_depth=20, )\n",
    "model_XL2 = algo_XL2.fit(x_train,y_train.ravel())\n",
    "#Predictions\n",
    "preds_XL2 = algo_XL2.predict(x_test)\n",
    "print(classification_report(y_test, preds_XL2,zero_division=1))"
   ]
  },
  {
   "cell_type": "code",
   "execution_count": 189,
   "id": "96696ce5",
   "metadata": {},
   "outputs": [
    {
     "name": "stdout",
     "output_type": "stream",
     "text": [
      "              precision    recall  f1-score   support\n",
      "\n",
      "    10K-180K       0.65      0.84      0.73       444\n",
      "   180K-300K       0.31      0.19      0.24       172\n",
      "   300K-450K       0.17      0.07      0.10        76\n",
      "   45OK-600K       0.00      0.00      0.00        25\n",
      "   600K-1MIL       0.00      0.00      0.00         2\n",
      "\n",
      "    accuracy                           0.57       719\n",
      "   macro avg       0.23      0.22      0.21       719\n",
      "weighted avg       0.49      0.57      0.52       719\n",
      "\n"
     ]
    }
   ],
   "source": [
    "#GradientBoostingClassifier\n",
    "algo_XL3= GradientBoostingClassifier(max_depth=20, )\n",
    "model_XL3 = algo_XL3.fit(x_train,y_train.ravel())\n",
    "#Predictions\n",
    "preds_XL3 = algo_XL3.predict(x_test)\n",
    "print(classification_report(y_test, preds_XL3, zero_division=1))"
   ]
  },
  {
   "cell_type": "code",
   "execution_count": 190,
   "id": "6f5a8152",
   "metadata": {},
   "outputs": [
    {
     "name": "stdout",
     "output_type": "stream",
     "text": [
      "[0.625      0.63465553 0.63048017 0.62212944 0.64091858]\n"
     ]
    }
   ],
   "source": [
    "print(cross_val_score(model, XL1, yL1.ravel())) # cv = number of folds being held out"
   ]
  },
  {
   "cell_type": "code",
   "execution_count": 191,
   "id": "8bbb4184",
   "metadata": {},
   "outputs": [
    {
     "data": {
      "text/plain": [
       "[('Random Forest Classifier', RandomForestClassifier()),\n",
       " ('Decision Tree Classifier', DecisionTreeClassifier()),\n",
       " ('Gradient Bossting Class', GradientBoostingClassifier())]"
      ]
     },
     "execution_count": 191,
     "metadata": {},
     "output_type": "execute_result"
    }
   ],
   "source": [
    "algos_Class = []\n",
    "algos_Class.append(('Random Forest Classifier', RandomForestClassifier()))\n",
    "algos_Class.append(('Decision Tree Classifier', DecisionTreeClassifier()))\n",
    "algos_Class.append(('Gradient Bossting Class', GradientBoostingClassifier()))\n",
    "algos_Class"
   ]
  },
  {
   "cell_type": "code",
   "execution_count": 192,
   "id": "5e53707e",
   "metadata": {},
   "outputs": [],
   "source": [
    "#classification\n",
    "results = []\n",
    "names = []\n",
    "for name, model in algos_Class:\n",
    "    result = cross_val_score(model, XL1,yL1.ravel())\n",
    "    results.append(result)\n",
    "    names.append(name)"
   ]
  },
  {
   "cell_type": "code",
   "execution_count": 193,
   "id": "d8181d38",
   "metadata": {},
   "outputs": [
    {
     "name": "stdout",
     "output_type": "stream",
     "text": [
      "Random Forest Classifier 0.5755488865692415\n",
      "Decision Tree Classifier 0.5930758524704245\n",
      "Gradient Bossting Class 0.6327200765483646\n"
     ]
    }
   ],
   "source": [
    "for i in range(len(names)):\n",
    "    print(names[i],results[i].mean())"
   ]
  },
  {
   "cell_type": "code",
   "execution_count": 194,
   "id": "46492d8b",
   "metadata": {},
   "outputs": [
    {
     "data": {
      "text/plain": [
       "0.5799721835883171"
      ]
     },
     "execution_count": 194,
     "metadata": {},
     "output_type": "execute_result"
    }
   ],
   "source": [
    "#DecisionTreeClassifier\n",
    "DT=algo_XL1\n",
    "DT.fit(x_train, y_train)\n",
    "predictions = DT.predict(x_test)\n",
    "DT.score(x_test, y_test)"
   ]
  },
  {
   "cell_type": "code",
   "execution_count": 195,
   "id": "e90e28cb",
   "metadata": {},
   "outputs": [
    {
     "data": {
      "text/plain": [
       "0.5563282336578581"
      ]
     },
     "execution_count": 195,
     "metadata": {},
     "output_type": "execute_result"
    }
   ],
   "source": [
    "#RandomForestClassifier\n",
    "RF=algo_XL2\n",
    "RF.fit(x_train, y_train)\n",
    "predictions = RF.predict(x_test)\n",
    "RF.score(x_test, y_test)"
   ]
  },
  {
   "cell_type": "code",
   "execution_count": 196,
   "id": "bcc95786",
   "metadata": {},
   "outputs": [
    {
     "data": {
      "text/plain": [
       "0.5563282336578581"
      ]
     },
     "execution_count": 196,
     "metadata": {},
     "output_type": "execute_result"
    }
   ],
   "source": [
    "#RandomForestClassifier\n",
    "GB=algo_XL3\n",
    "GB.fit(x_train, y_train)\n",
    "predictions = GB.predict(x_test)\n",
    "RF.score(x_test, y_test)"
   ]
  },
  {
   "cell_type": "code",
   "execution_count": 197,
   "id": "a6a9de0d",
   "metadata": {},
   "outputs": [],
   "source": [
    "#features\n",
    "XL5 = credit.iloc[:, 2:-2]\n",
    "yL5 = credit['Default_Status_default'].values.reshape(-1,1)"
   ]
  },
  {
   "cell_type": "code",
   "execution_count": 198,
   "id": "102ef189",
   "metadata": {},
   "outputs": [],
   "source": [
    "lim_cats= credit['Limit_Bal']\n",
    "lim_cats= pd.cut(lim_cats, bins=[9999, 180000, 300000,450000, 600000,800000,1000000],\n",
    "            labels = ['10K-180K', '180K-300K','300K-450K', '45OK-600K', '600K-8OOK', '800K-1MIL'])\n",
    "\n",
    "lim_cats=lim_cats.cat.codes"
   ]
  },
  {
   "cell_type": "code",
   "execution_count": 199,
   "id": "054a5b19",
   "metadata": {},
   "outputs": [],
   "source": [
    "XL5['Limit_Bal']=lim_cats"
   ]
  },
  {
   "cell_type": "code",
   "execution_count": 200,
   "id": "94965439",
   "metadata": {},
   "outputs": [],
   "source": [
    "trainX, testX, trainY, testY = train_test_split(XL5,yL5, test_size=0.3, random_state=42)"
   ]
  },
  {
   "cell_type": "code",
   "execution_count": 201,
   "id": "088ed682",
   "metadata": {},
   "outputs": [
    {
     "data": {
      "text/plain": [
       "0.8094575799721836"
      ]
     },
     "execution_count": 201,
     "metadata": {},
     "output_type": "execute_result"
    }
   ],
   "source": [
    "rfc = RandomForestClassifier()\n",
    "rfc_model = rfc.fit(trainX, trainY.ravel())\n",
    "rfc_model.score(testX, testY)"
   ]
  },
  {
   "cell_type": "code",
   "execution_count": 208,
   "id": "7f16af91",
   "metadata": {},
   "outputs": [
    {
     "data": {
      "text/plain": [
       "Text(0.5, 0, 'Balance Limit')"
      ]
     },
     "execution_count": 208,
     "metadata": {},
     "output_type": "execute_result"
    },
    {
     "data": {
      "image/png": "[encoded data removed]",
      "text/plain": [
       "<Figure size 800x550 with 1 Axes>"
      ]
     },
     "metadata": {},
     "output_type": "display_data"
    }
   ],
   "source": [
    "#features\n",
    "XL2 = credit['Limit_Bal']\n",
    "yL2 = credit['Default_Status_default']\n",
    "pd.DataFrame(yL2).hist()\n",
    "plt.ticklabel_format(useOffset=False, style='plain')\n",
    "plt.xlabel('Balance Limit') \n",
    "\n"
   ]
  },
  {
   "cell_type": "code",
   "execution_count": 209,
   "id": "fe093e23",
   "metadata": {},
   "outputs": [],
   "source": [
    "\n",
    "XL2= pd.cut(XL2, bins=[9999, 180000, 300000,450000, 600000,800000,1000000],\n",
    "            labels = ['10K-180K', '180K-300K','300K-450K', '45OK-600K', '600K-8OOK', '800K-1MIL'])"
   ]
  },
  {
   "cell_type": "code",
   "execution_count": 210,
   "id": "13f4c585",
   "metadata": {},
   "outputs": [],
   "source": [
    "XL2 = XL2.cat.codes"
   ]
  },
  {
   "cell_type": "code",
   "execution_count": 211,
   "id": "e913bc77",
   "metadata": {},
   "outputs": [
    {
     "data": {
      "text/plain": [
       "<AxesSubplot:>"
      ]
     },
     "execution_count": 211,
     "metadata": {},
     "output_type": "execute_result"
    },
    {
     "data": {
      "image/png": "[encoded data removed]",
      "text/plain": [
       "<Figure size 800x550 with 1 Axes>"
      ]
     },
     "metadata": {},
     "output_type": "display_data"
    }
   ],
   "source": [
    "XL2.hist()"
   ]
  },
  {
   "cell_type": "code",
   "execution_count": 212,
   "id": "756d0ab1",
   "metadata": {},
   "outputs": [],
   "source": [
    "XL2 = XL2.values.reshape(-1,1)"
   ]
  },
  {
   "cell_type": "code",
   "execution_count": 213,
   "id": "4c8c5f15",
   "metadata": {},
   "outputs": [],
   "source": [
    "x_train, x_test, y_train, y_test = train_test_split(XL2, yL2,test_size = 0.3, random_state=123)"
   ]
  },
  {
   "cell_type": "code",
   "execution_count": 214,
   "id": "63d17514",
   "metadata": {},
   "outputs": [
    {
     "name": "stdout",
     "output_type": "stream",
     "text": [
      "              precision    recall  f1-score   support\n",
      "\n",
      "           0       0.80      1.00      0.89       572\n",
      "           1       1.00      0.00      0.00       147\n",
      "\n",
      "    accuracy                           0.80       719\n",
      "   macro avg       0.90      0.50      0.44       719\n",
      "weighted avg       0.84      0.80      0.70       719\n",
      "\n"
     ]
    }
   ],
   "source": [
    "#DecisionTreeClassifier\n",
    "algo_XLD1= DecisionTreeClassifier(max_depth=20, )\n",
    "model_XLD1 = algo_XLD1.fit(x_train,y_train)\n",
    "#Predicti1ons\n",
    "preds_XLD1 = algo_XLD1.predict(x_test)\n",
    "print(classification_report(y_test, preds_XLD1,zero_division=1))"
   ]
  },
  {
   "cell_type": "code",
   "execution_count": 215,
   "id": "529e2c36",
   "metadata": {},
   "outputs": [
    {
     "name": "stdout",
     "output_type": "stream",
     "text": [
      "              precision    recall  f1-score   support\n",
      "\n",
      "           0       0.80      1.00      0.89       572\n",
      "           1       1.00      0.00      0.00       147\n",
      "\n",
      "    accuracy                           0.80       719\n",
      "   macro avg       0.90      0.50      0.44       719\n",
      "weighted avg       0.84      0.80      0.70       719\n",
      "\n"
     ]
    }
   ],
   "source": [
    "#RandomForestClassifier\n",
    "algo_XLD2= RandomForestClassifier(max_depth=20, )\n",
    "model_XLD2 = algo_XLD2.fit(x_train,y_train)\n",
    "#Predicti1ons\n",
    "preds_XLD2 = algo_XLD2.predict(x_test)\n",
    "print(classification_report(y_test, preds_XLD2,zero_division=1))"
   ]
  },
  {
   "cell_type": "code",
   "execution_count": 216,
   "id": "903f9d7f",
   "metadata": {},
   "outputs": [
    {
     "name": "stdout",
     "output_type": "stream",
     "text": [
      "              precision    recall  f1-score   support\n",
      "\n",
      "           0       0.80      1.00      0.89       572\n",
      "           1       1.00      0.00      0.00       147\n",
      "\n",
      "    accuracy                           0.80       719\n",
      "   macro avg       0.90      0.50      0.44       719\n",
      "weighted avg       0.84      0.80      0.70       719\n",
      "\n"
     ]
    }
   ],
   "source": [
    "#GradientBoostingClassifier\n",
    "algo_XLD3= GradientBoostingClassifier(max_depth=20, )\n",
    "model_XLD3 = algo_XLD3.fit(x_train,y_train)\n",
    "#Predicti1ons\n",
    "preds_XLD3 = algo_XLD3.predict(x_test)\n",
    "print(classification_report(y_test, preds_XLD3,zero_division=1))"
   ]
  },
  {
   "cell_type": "code",
   "execution_count": 217,
   "id": "89c41808",
   "metadata": {},
   "outputs": [
    {
     "name": "stdout",
     "output_type": "stream",
     "text": [
      "[0.78333333 0.782881   0.782881   0.782881   0.78496868]\n"
     ]
    }
   ],
   "source": [
    "print(cross_val_score(model, XL2, yL2)) # cv = number of folds being held out"
   ]
  },
  {
   "cell_type": "code",
   "execution_count": 218,
   "id": "d7e0a248",
   "metadata": {},
   "outputs": [
    {
     "data": {
      "text/plain": [
       "[('Random Forest Classifier', RandomForestClassifier()),\n",
       " ('Decision Tree Classifier', DecisionTreeClassifier()),\n",
       " ('Gradient Bossting Class', GradientBoostingClassifier())]"
      ]
     },
     "execution_count": 218,
     "metadata": {},
     "output_type": "execute_result"
    }
   ],
   "source": [
    "algos_Class = []\n",
    "algos_Class.append(('Random Forest Classifier', RandomForestClassifier()))\n",
    "algos_Class.append(('Decision Tree Classifier', DecisionTreeClassifier()))\n",
    "algos_Class.append(('Gradient Bossting Class', GradientBoostingClassifier()))\n",
    "algos_Class"
   ]
  },
  {
   "cell_type": "code",
   "execution_count": 219,
   "id": "dfd44fb1",
   "metadata": {},
   "outputs": [
    {
     "data": {
      "text/plain": [
       "[array([0.78333333, 0.782881  , 0.782881  , 0.782881  , 0.78496868]),\n",
       " array([0.78333333, 0.782881  , 0.782881  , 0.782881  , 0.78496868]),\n",
       " array([0.78333333, 0.782881  , 0.782881  , 0.782881  , 0.78496868])]"
      ]
     },
     "execution_count": 219,
     "metadata": {},
     "output_type": "execute_result"
    }
   ],
   "source": [
    "#classification\n",
    "results = []\n",
    "names = []\n",
    "for name, model in algos_Class:\n",
    "    result = cross_val_score(model, XL2,yL2)\n",
    "    results.append(result)\n",
    "    names.append(name)\n",
    "results"
   ]
  },
  {
   "cell_type": "code",
   "execution_count": 220,
   "id": "9e71b6d3",
   "metadata": {},
   "outputs": [
    {
     "name": "stdout",
     "output_type": "stream",
     "text": [
      "Random Forest Classifier 0.7833890048712595\n",
      "Decision Tree Classifier 0.7833890048712595\n",
      "Gradient Bossting Class 0.7833890048712595\n"
     ]
    }
   ],
   "source": [
    "for i in range(len(names)):\n",
    "    print(names[i],results[i].mean())"
   ]
  },
  {
   "cell_type": "code",
   "execution_count": 221,
   "id": "d049645f",
   "metadata": {},
   "outputs": [
    {
     "data": {
      "text/plain": [
       "0.7955493741307371"
      ]
     },
     "execution_count": 221,
     "metadata": {},
     "output_type": "execute_result"
    }
   ],
   "source": [
    "#DecisionTreeClassifier\n",
    "DT=algo_XLD1\n",
    "DT.fit(x_train, y_train)\n",
    "predictions = DT.predict(x_test)\n",
    "DT.score(x_test, y_test)"
   ]
  },
  {
   "cell_type": "code",
   "execution_count": 222,
   "id": "fe50856a",
   "metadata": {},
   "outputs": [
    {
     "data": {
      "text/plain": [
       "0.7955493741307371"
      ]
     },
     "execution_count": 222,
     "metadata": {},
     "output_type": "execute_result"
    }
   ],
   "source": [
    "#RandomForestClassifier\n",
    "RF=algo_XLD2\n",
    "RF.fit(x_train, y_train)\n",
    "predictions = RF.predict(x_test)\n",
    "RF.score(x_test, y_test)"
   ]
  },
  {
   "cell_type": "code",
   "execution_count": 223,
   "id": "68b9e996",
   "metadata": {},
   "outputs": [
    {
     "data": {
      "text/plain": [
       "0.7955493741307371"
      ]
     },
     "execution_count": 223,
     "metadata": {},
     "output_type": "execute_result"
    }
   ],
   "source": [
    "#RandomForestClassifier\n",
    "GB=algo_XLD3\n",
    "GB.fit(x_train, y_train)\n",
    "predictions = GB.predict(x_test)\n",
    "RF.score(x_test, y_test)"
   ]
  },
  {
   "cell_type": "markdown",
   "id": "28104144",
   "metadata": {},
   "source": [
    "# 5. Credit limit is independent and not descritize .78"
   ]
  },
  {
   "cell_type": "code",
   "execution_count": 224,
   "id": "040ef78e",
   "metadata": {},
   "outputs": [],
   "source": [
    "XL3 = credit['Limit_Bal'].values.reshape(-1,1)\n",
    "yL3 = credit['Default_Status_default']"
   ]
  },
  {
   "cell_type": "code",
   "execution_count": 225,
   "id": "c7eda552",
   "metadata": {},
   "outputs": [
    {
     "data": {
      "text/plain": [
       "Text(0.5, 0, '0- Not default    1- Default')"
      ]
     },
     "execution_count": 225,
     "metadata": {},
     "output_type": "execute_result"
    },
    {
     "data": {
      "image/png": "[encoded data removed]",
      "text/plain": [
       "<Figure size 800x550 with 1 Axes>"
      ]
     },
     "metadata": {},
     "output_type": "display_data"
    }
   ],
   "source": [
    "pd.DataFrame(yL3).hist()\n",
    "plt.ticklabel_format(useOffset=False, style='plain')\n",
    "plt.xlabel('0- Not default    1- Default') "
   ]
  },
  {
   "cell_type": "code",
   "execution_count": 226,
   "id": "5e440277",
   "metadata": {},
   "outputs": [],
   "source": [
    "#train test split\n",
    "x_train, x_test, y_train, y_test = train_test_split(XL3, yL3,test_size = 0.3, random_state=123)"
   ]
  },
  {
   "cell_type": "code",
   "execution_count": 227,
   "id": "97895afb",
   "metadata": {},
   "outputs": [
    {
     "name": "stdout",
     "output_type": "stream",
     "text": [
      "              precision    recall  f1-score   support\n",
      "\n",
      "           0       0.80      1.00      0.89       572\n",
      "           1       1.00      0.00      0.00       147\n",
      "\n",
      "    accuracy                           0.80       719\n",
      "   macro avg       0.90      0.50      0.44       719\n",
      "weighted avg       0.84      0.80      0.70       719\n",
      "\n"
     ]
    }
   ],
   "source": [
    "#DecisionTreeClassifier\n",
    "algo_XLND1= DecisionTreeClassifier(max_depth=2)\n",
    "model_XLND1 = algo_XLND1.fit(x_train,y_train)\n",
    "#Predicti1ons\n",
    "preds_XLND1 = algo_XLND1.predict(x_test)\n",
    "print(classification_report(y_test, preds_XLND1, zero_division=1))"
   ]
  },
  {
   "cell_type": "code",
   "execution_count": 228,
   "id": "0f55efb7",
   "metadata": {},
   "outputs": [
    {
     "name": "stdout",
     "output_type": "stream",
     "text": [
      "              precision    recall  f1-score   support\n",
      "\n",
      "           0       0.80      1.00      0.89       572\n",
      "           1       1.00      0.00      0.00       147\n",
      "\n",
      "    accuracy                           0.80       719\n",
      "   macro avg       0.90      0.50      0.44       719\n",
      "weighted avg       0.84      0.80      0.70       719\n",
      "\n"
     ]
    }
   ],
   "source": [
    "#RandomForestClassifier\n",
    "algo_XLND2= RandomForestClassifier(max_depth=4)\n",
    "model_XLND2 = algo_XLND2.fit(x_train,y_train)\n",
    "#Predicti1ons\n",
    "preds_XLND2 = algo_XLND2.predict(x_test)\n",
    "print(classification_report(y_test, preds_XLND2,zero_division=1))"
   ]
  },
  {
   "cell_type": "code",
   "execution_count": 229,
   "id": "bff42ff2",
   "metadata": {},
   "outputs": [
    {
     "name": "stdout",
     "output_type": "stream",
     "text": [
      "              precision    recall  f1-score   support\n",
      "\n",
      "           0       0.80      1.00      0.89       572\n",
      "           1       1.00      0.00      0.00       147\n",
      "\n",
      "    accuracy                           0.80       719\n",
      "   macro avg       0.90      0.50      0.44       719\n",
      "weighted avg       0.84      0.80      0.70       719\n",
      "\n"
     ]
    }
   ],
   "source": [
    "#GradientBoostingClassifier\n",
    "algo_XLND3= GradientBoostingClassifier()\n",
    "model_XLND3 = algo_XLND3.fit(x_train,y_train)\n",
    "#Predicti1ons\n",
    "preds_XLND3= algo_XLND3.predict(x_test)\n",
    "print(classification_report(y_test, preds_XLND3, zero_division=1))"
   ]
  },
  {
   "cell_type": "code",
   "execution_count": 230,
   "id": "bbf0b543",
   "metadata": {},
   "outputs": [
    {
     "name": "stdout",
     "output_type": "stream",
     "text": [
      "[0.78333333 0.782881   0.782881   0.77870564 0.782881  ]\n"
     ]
    }
   ],
   "source": [
    "print(cross_val_score(model, XL3, yL3)) # cv = number of folds being held out"
   ]
  },
  {
   "cell_type": "code",
   "execution_count": 231,
   "id": "7f1d43ab",
   "metadata": {},
   "outputs": [
    {
     "data": {
      "text/plain": [
       "[('Random Forest Classifier', RandomForestClassifier()),\n",
       " ('Decision Tree Classifier', DecisionTreeClassifier()),\n",
       " ('Gradient Bossting Class', GradientBoostingClassifier())]"
      ]
     },
     "execution_count": 231,
     "metadata": {},
     "output_type": "execute_result"
    }
   ],
   "source": [
    "algos_Class = []\n",
    "algos_Class.append(('Random Forest Classifier', RandomForestClassifier()))\n",
    "algos_Class.append(('Decision Tree Classifier', DecisionTreeClassifier()))\n",
    "algos_Class.append(('Gradient Bossting Class', GradientBoostingClassifier()))\n",
    "algos_Class"
   ]
  },
  {
   "cell_type": "code",
   "execution_count": 232,
   "id": "b49568a5",
   "metadata": {},
   "outputs": [
    {
     "data": {
      "text/plain": [
       "[array([0.78333333, 0.782881  , 0.782881  , 0.782881  , 0.78496868]),\n",
       " array([0.78333333, 0.782881  , 0.782881  , 0.782881  , 0.78496868]),\n",
       " array([0.78333333, 0.782881  , 0.782881  , 0.782881  , 0.78496868])]"
      ]
     },
     "execution_count": 232,
     "metadata": {},
     "output_type": "execute_result"
    }
   ],
   "source": [
    "#classification\n",
    "results = []\n",
    "names = []\n",
    "for name, model in algos_Class:\n",
    "    result = cross_val_score(model, XL2,yL2)\n",
    "    results.append(result)\n",
    "    names.append(name)\n",
    "results"
   ]
  },
  {
   "cell_type": "code",
   "execution_count": 233,
   "id": "f026573c",
   "metadata": {},
   "outputs": [
    {
     "name": "stdout",
     "output_type": "stream",
     "text": [
      "Random Forest Classifier 0.7833890048712595\n",
      "Decision Tree Classifier 0.7833890048712595\n",
      "Gradient Bossting Class 0.7833890048712595\n"
     ]
    }
   ],
   "source": [
    "for i in range(len(names)):\n",
    "    print(names[i],results[i].mean())"
   ]
  },
  {
   "cell_type": "code",
   "execution_count": 234,
   "id": "2b36e5b6",
   "metadata": {},
   "outputs": [
    {
     "data": {
      "text/plain": [
       "0.7955493741307371"
      ]
     },
     "execution_count": 234,
     "metadata": {},
     "output_type": "execute_result"
    }
   ],
   "source": [
    "#DecisionTreeClassifier\n",
    "DT=algo_XLND1\n",
    "DT.fit(x_train, y_train)\n",
    "predictions = DT.predict(x_test)\n",
    "DT.score(x_test, y_test)"
   ]
  },
  {
   "cell_type": "code",
   "execution_count": 235,
   "id": "df29493e",
   "metadata": {},
   "outputs": [
    {
     "data": {
      "text/plain": [
       "0.7955493741307371"
      ]
     },
     "execution_count": 235,
     "metadata": {},
     "output_type": "execute_result"
    }
   ],
   "source": [
    "#RandomForestClassifier\n",
    "RF=algo_XLND2\n",
    "RF.fit(x_train, y_train)\n",
    "predictions = RF.predict(x_test)\n",
    "RF.score(x_test, y_test)"
   ]
  },
  {
   "cell_type": "code",
   "execution_count": 236,
   "id": "79c61942",
   "metadata": {},
   "outputs": [
    {
     "data": {
      "text/plain": [
       "0.7955493741307371"
      ]
     },
     "execution_count": 236,
     "metadata": {},
     "output_type": "execute_result"
    }
   ],
   "source": [
    "#RandomForestClassifier\n",
    "GB=algo_XLND3\n",
    "GB.fit(x_train, y_train)\n",
    "predictions = GB.predict(x_test)\n",
    "RF.score(x_test, y_test)"
   ]
  },
  {
   "cell_type": "markdown",
   "id": "5d5924f0",
   "metadata": {},
   "source": [
    "# Regression Models Defaul PMT is dependant, will not work b/c it is binary variable"
   ]
  },
  {
   "cell_type": "code",
   "execution_count": 237,
   "id": "d95b80c7",
   "metadata": {},
   "outputs": [
    {
     "data": {
      "text/plain": [
       "Index(['Limit_Bal', 'Marriage', 'Age', 'Status_Sept', 'Status_Aug',\n",
       "       'Status_Jul', 'Status_Jun', 'Status_May', 'Status_Apr', 'Bill_Sept',\n",
       "       'Bill_Aug', 'Bill_Jul', 'Bill_Jun', 'Bill_May', 'Bill_Apr', 'Pay_Sept',\n",
       "       'Pay_Aug', 'Pay_Jul', 'Pay_Jun', 'Pay_May', 'Pay_Apr', 'Sex_female',\n",
       "       'Sex_male', 'Education_graduate school', 'Education_high school',\n",
       "       'Education_other', 'Education_university', 'Default_Status_default',\n",
       "       'Default_Status_not default'],\n",
       "      dtype='object')"
      ]
     },
     "execution_count": 237,
     "metadata": {},
     "output_type": "execute_result"
    }
   ],
   "source": [
    "credit.dtypes.index"
   ]
  },
  {
   "cell_type": "code",
   "execution_count": 238,
   "id": "b2fafd8b",
   "metadata": {},
   "outputs": [
    {
     "name": "stdout",
     "output_type": "stream",
     "text": [
      "Summary of feature sample\n"
     ]
    }
   ],
   "source": [
    "#features\n",
    "X = credit[['Limit_Bal', 'Marriage', 'Age','Sex_female',\n",
    "       'Sex_male', 'Education_graduate school', 'Education_high school',\n",
    "       'Education_other', 'Education_university']]\n",
    "print('Summary of feature sample')"
   ]
  },
  {
   "cell_type": "code",
   "execution_count": 239,
   "id": "e7cf0439",
   "metadata": {},
   "outputs": [],
   "source": [
    "y= credit['Default_Status_default']"
   ]
  },
  {
   "cell_type": "code",
   "execution_count": 243,
   "id": "93e709c1",
   "metadata": {},
   "outputs": [
    {
     "data": {
      "text/plain": [
       "-0.0009974281859099765"
      ]
     },
     "execution_count": 243,
     "metadata": {},
     "output_type": "execute_result"
    }
   ],
   "source": [
    "#in first line we only initialize the parameters\n",
    "modelD1 = LinearRegression(n_jobs=15)\n",
    "#train test split\n",
    "X_train, X_test, y_train, y_test = train_test_split(X, y,test_size = 0.3, random_state = 123)\n",
    "modelD1.fit(X_train, y_train)\n",
    "modelD1.score(X_test, y_test)"
   ]
  },
  {
   "cell_type": "code",
   "execution_count": 244,
   "id": "a32d004d",
   "metadata": {},
   "outputs": [
    {
     "data": {
      "text/plain": [
       "-0.25830673009502014"
      ]
     },
     "execution_count": 244,
     "metadata": {},
     "output_type": "execute_result"
    }
   ],
   "source": [
    "modelD2 = RandomForestRegressor(n_jobs=10)\n",
    "#train test split\n",
    "X_train, X_test, y_train, y_test = train_test_split(X, y,test_size = 0.3, random_state = 123)\n",
    "modelD2.fit(X_train, y_train)\n",
    "modelD2.score(X_test, y_test)"
   ]
  },
  {
   "cell_type": "code",
   "execution_count": 245,
   "id": "870f262e",
   "metadata": {},
   "outputs": [
    {
     "data": {
      "text/plain": [
       "-0.06737514096320152"
      ]
     },
     "execution_count": 245,
     "metadata": {},
     "output_type": "execute_result"
    }
   ],
   "source": [
    "modelD3 = SVR()\n",
    "X_train, X_test, y_train, y_test = train_test_split(X, y,test_size = 0.3, random_state = 123)\n",
    "modelD3.fit(X_train, y_train)\n",
    "modelD3.score(X_test, y_test)"
   ]
  },
  {
   "cell_type": "code",
   "execution_count": 247,
   "id": "fb57c858",
   "metadata": {},
   "outputs": [
    {
     "name": "stdout",
     "output_type": "stream",
     "text": [
      "[-0.00216866 -0.00114337  0.00692299  0.01449225  0.00978226]\n"
     ]
    }
   ],
   "source": [
    "print(cross_val_score(modelD1, X, y, cv=5, )) # cv = number of folds being held out"
   ]
  },
  {
   "cell_type": "code",
   "execution_count": 248,
   "id": "82099390",
   "metadata": {},
   "outputs": [],
   "source": [
    "model = []\n",
    "model.append(('Random Forest Regressor',RandomForestRegressor()))\n",
    "model.append(('Linear Regression',LinearRegression()))\n",
    "model.append(('Support Vector Regression',SVR()))"
   ]
  },
  {
   "cell_type": "code",
   "execution_count": 249,
   "id": "f3f2948a",
   "metadata": {},
   "outputs": [],
   "source": [
    "#classification\n",
    "results = []\n",
    "names = []\n",
    "for name, model in model:\n",
    "    result = cross_val_score(model, X,y)\n",
    "    results.append(result)\n",
    "    names.append(name)"
   ]
  },
  {
   "cell_type": "code",
   "execution_count": 250,
   "id": "aa932051",
   "metadata": {},
   "outputs": [
    {
     "name": "stdout",
     "output_type": "stream",
     "text": [
      "Random Forest Regressor -0.23680930432472716\n",
      "Linear Regression 0.005577095917777197\n",
      "Support Vector Regression -0.08085398674032826\n"
     ]
    }
   ],
   "source": [
    "for i in range(len(names)):\n",
    "    print(names[i],results[i].mean())"
   ]
  },
  {
   "cell_type": "code",
   "execution_count": 251,
   "id": "f4e84772",
   "metadata": {},
   "outputs": [
    {
     "name": "stdout",
     "output_type": "stream",
     "text": [
      "R Squared: -0.257\n",
      "RMSE: 0.452\n"
     ]
    }
   ],
   "source": [
    "#Make Predictions\n",
    "predictionsD1 = modelD1.predict(X_test)\n",
    "predRsquared = r2_score(y_test,predictions)\n",
    "rmse = sqrt(mean_squared_error(y_test, predictions))\n",
    "print('R Squared: %.3f' % predRsquared)\n",
    "print('RMSE: %.3f' % rmse)"
   ]
  },
  {
   "cell_type": "code",
   "execution_count": 252,
   "id": "ef4015b4",
   "metadata": {},
   "outputs": [
    {
     "data": {
      "image/png": "[encoded data removed]",
      "text/plain": [
       "<Figure size 800x550 with 1 Axes>"
      ]
     },
     "metadata": {},
     "output_type": "display_data"
    }
   ],
   "source": [
    "plt.scatter(y_test, predictionsD1, color=['blue'], alpha = 0.5)\n",
    "plt.xlabel('Ground Truth')\n",
    "plt.ylabel('Predictions')\n",
    "plt.show();"
   ]
  },
  {
   "cell_type": "code",
   "execution_count": 253,
   "id": "7ed11fe0",
   "metadata": {},
   "outputs": [
    {
     "name": "stdout",
     "output_type": "stream",
     "text": [
      "R Squared: -0.257\n",
      "RMSE: 0.452\n"
     ]
    }
   ],
   "source": [
    "#Make Predictions\n",
    "predictionsD2 = modelD2.predict(X_test)\n",
    "predRsquared = r2_score(y_test,predictions)\n",
    "rmse = sqrt(mean_squared_error(y_test, predictions))\n",
    "print('R Squared: %.3f' % predRsquared)\n",
    "print('RMSE: %.3f' % rmse)"
   ]
  },
  {
   "cell_type": "code",
   "execution_count": 254,
   "id": "24225398",
   "metadata": {},
   "outputs": [
    {
     "data": {
      "image/png": "[encoded data removed]",
      "text/plain": [
       "<Figure size 800x550 with 1 Axes>"
      ]
     },
     "metadata": {},
     "output_type": "display_data"
    }
   ],
   "source": [
    "plt.scatter(y_test, predictionsD2, color=['blue'], alpha = 0.5)\n",
    "plt.xlabel('Ground Truth')\n",
    "plt.ylabel('Predictions')\n",
    "plt.show();"
   ]
  },
  {
   "cell_type": "markdown",
   "id": "b100dffd",
   "metadata": {},
   "source": [
    "# Regression Models no Marriage - Predicting Default Payment"
   ]
  },
  {
   "cell_type": "code",
   "execution_count": 256,
   "id": "88c28f78",
   "metadata": {},
   "outputs": [
    {
     "name": "stdout",
     "output_type": "stream",
     "text": [
      "Summary of feature sample\n"
     ]
    },
    {
     "data": {
      "text/html": [
       "<div>\n",
       "<style scoped>\n",
       "    .dataframe tbody tr th:only-of-type {\n",
       "        vertical-align: middle;\n",
       "    }\n",
       "\n",
       "    .dataframe tbody tr th {\n",
       "        vertical-align: top;\n",
       "    }\n",
       "\n",
       "    .dataframe thead th {\n",
       "        text-align: right;\n",
       "    }\n",
       "</style>\n",
       "<table border=\"1\" class=\"dataframe\">\n",
       "  <thead>\n",
       "    <tr style=\"text-align: right;\">\n",
       "      <th></th>\n",
       "      <th>Limit_Bal</th>\n",
       "      <th>Age</th>\n",
       "      <th>Sex_female</th>\n",
       "      <th>Sex_male</th>\n",
       "      <th>Education_graduate school</th>\n",
       "      <th>Education_high school</th>\n",
       "      <th>Education_other</th>\n",
       "      <th>Education_university</th>\n",
       "    </tr>\n",
       "  </thead>\n",
       "  <tbody>\n",
       "    <tr>\n",
       "      <th>0</th>\n",
       "      <td>20000</td>\n",
       "      <td>24</td>\n",
       "      <td>1</td>\n",
       "      <td>0</td>\n",
       "      <td>0</td>\n",
       "      <td>0</td>\n",
       "      <td>0</td>\n",
       "      <td>1</td>\n",
       "    </tr>\n",
       "    <tr>\n",
       "      <th>1</th>\n",
       "      <td>120000</td>\n",
       "      <td>26</td>\n",
       "      <td>1</td>\n",
       "      <td>0</td>\n",
       "      <td>0</td>\n",
       "      <td>0</td>\n",
       "      <td>0</td>\n",
       "      <td>1</td>\n",
       "    </tr>\n",
       "    <tr>\n",
       "      <th>2</th>\n",
       "      <td>90000</td>\n",
       "      <td>34</td>\n",
       "      <td>1</td>\n",
       "      <td>0</td>\n",
       "      <td>0</td>\n",
       "      <td>0</td>\n",
       "      <td>0</td>\n",
       "      <td>1</td>\n",
       "    </tr>\n",
       "    <tr>\n",
       "      <th>3</th>\n",
       "      <td>50000</td>\n",
       "      <td>37</td>\n",
       "      <td>1</td>\n",
       "      <td>0</td>\n",
       "      <td>0</td>\n",
       "      <td>0</td>\n",
       "      <td>0</td>\n",
       "      <td>1</td>\n",
       "    </tr>\n",
       "    <tr>\n",
       "      <th>4</th>\n",
       "      <td>50000</td>\n",
       "      <td>57</td>\n",
       "      <td>0</td>\n",
       "      <td>1</td>\n",
       "      <td>0</td>\n",
       "      <td>0</td>\n",
       "      <td>0</td>\n",
       "      <td>1</td>\n",
       "    </tr>\n",
       "  </tbody>\n",
       "</table>\n",
       "</div>"
      ],
      "text/plain": [
       "   Limit_Bal  Age  Sex_female  Sex_male  Education_graduate school  \\\n",
       "0      20000   24           1         0                          0   \n",
       "1     120000   26           1         0                          0   \n",
       "2      90000   34           1         0                          0   \n",
       "3      50000   37           1         0                          0   \n",
       "4      50000   57           0         1                          0   \n",
       "\n",
       "   Education_high school  Education_other  Education_university  \n",
       "0                      0                0                     1  \n",
       "1                      0                0                     1  \n",
       "2                      0                0                     1  \n",
       "3                      0                0                     1  \n",
       "4                      0                0                     1  "
      ]
     },
     "execution_count": 256,
     "metadata": {},
     "output_type": "execute_result"
    }
   ],
   "source": [
    "#features\n",
    "\n",
    "Xm = credit[['Limit_Bal', 'Age','Sex_female',\n",
    "       'Sex_male', 'Education_graduate school', 'Education_high school',\n",
    "       'Education_other', 'Education_university']]\n",
    "print('Summary of feature sample')\n",
    "Xm.head()"
   ]
  },
  {
   "cell_type": "code",
   "execution_count": 257,
   "id": "50cd986c",
   "metadata": {},
   "outputs": [],
   "source": [
    "ym= credit['Default_Status_default']"
   ]
  },
  {
   "cell_type": "code",
   "execution_count": 258,
   "id": "b2377fcc",
   "metadata": {},
   "outputs": [
    {
     "data": {
      "text/plain": [
       "0.003453253378950749"
      ]
     },
     "execution_count": 258,
     "metadata": {},
     "output_type": "execute_result"
    }
   ],
   "source": [
    "model = LinearRegression(n_jobs=10)\n",
    "#train test split\n",
    "X_train, X_test, y_train, y_test = train_test_split(Xm, ym,test_size = 0.3, random_state = 123)\n",
    "model.fit(X_train, y_train)\n",
    "model.score(X_test, y_test)"
   ]
  },
  {
   "cell_type": "code",
   "execution_count": 259,
   "id": "45c36512",
   "metadata": {},
   "outputs": [
    {
     "data": {
      "text/plain": [
       "-0.32932149813628797"
      ]
     },
     "execution_count": 259,
     "metadata": {},
     "output_type": "execute_result"
    }
   ],
   "source": [
    "model = RandomForestRegressor(n_jobs=10)\n",
    "#train test split\n",
    "X_train, X_test, y_train, y_test = train_test_split(Xm, ym,test_size = 0.3, random_state = 123)\n",
    "model.fit(X_train, y_train)\n",
    "model.score(X_test, y_test)"
   ]
  },
  {
   "cell_type": "code",
   "execution_count": 260,
   "id": "4813dcae",
   "metadata": {},
   "outputs": [
    {
     "data": {
      "text/plain": [
       "-0.06738314548704105"
      ]
     },
     "execution_count": 260,
     "metadata": {},
     "output_type": "execute_result"
    }
   ],
   "source": [
    "model = SVR()\n",
    "X_train, X_test, y_train, y_test = train_test_split(Xm, ym,test_size = 0.3, random_state = 123)\n",
    "model.fit(X_train, y_train)\n",
    "regressor = SVR(kernel = 'rbf')\n",
    "regressor.fit(X_train, y_train)\n",
    "model.score(X_test, y_test)"
   ]
  },
  {
   "cell_type": "code",
   "execution_count": 261,
   "id": "fae6a8d8",
   "metadata": {},
   "outputs": [
    {
     "name": "stdout",
     "output_type": "stream",
     "text": [
      "[-0.09927769 -0.04673424 -0.08317514 -0.08563684 -0.08978066]\n"
     ]
    }
   ],
   "source": [
    "print(cross_val_score(model, Xm, ym, cv=5, )) # cv = number of folds being held out"
   ]
  },
  {
   "cell_type": "code",
   "execution_count": 271,
   "id": "934c2024",
   "metadata": {},
   "outputs": [],
   "source": [
    "model = []\n",
    "model.append(('Random Forest Regressor',RandomForestRegressor()))\n",
    "model.append(('Linear Regression',LinearRegression()))\n",
    "model.append(('Support Vector Regression',SVR()))\n"
   ]
  },
  {
   "cell_type": "code",
   "execution_count": 272,
   "id": "64bc7ef6",
   "metadata": {},
   "outputs": [],
   "source": [
    "#classification\n",
    "results = []\n",
    "names = []\n",
    "for name, model in model:\n",
    "    result = cross_val_score(model, Xm,ym)\n",
    "    results.append(result)\n",
    "    names.append(name)"
   ]
  },
  {
   "cell_type": "code",
   "execution_count": 273,
   "id": "5b836d75",
   "metadata": {},
   "outputs": [
    {
     "name": "stdout",
     "output_type": "stream",
     "text": [
      "Random Forest Regressor -0.2819275440316565\n",
      "Linear Regression 0.005547255216346381\n",
      "Support Vector Regression -0.08092091376894653\n"
     ]
    }
   ],
   "source": [
    "for i in range(len(names)):\n",
    "    print(names[i],results[i].mean())"
   ]
  },
  {
   "cell_type": "markdown",
   "id": "84406c54",
   "metadata": {},
   "source": [
    "# Regression"
   ]
  },
  {
   "cell_type": "code",
   "execution_count": 274,
   "id": "a7c08dd7",
   "metadata": {},
   "outputs": [
    {
     "name": "stdout",
     "output_type": "stream",
     "text": [
      "Summary of feature sample\n"
     ]
    },
    {
     "data": {
      "text/html": [
       "<div>\n",
       "<style scoped>\n",
       "    .dataframe tbody tr th:only-of-type {\n",
       "        vertical-align: middle;\n",
       "    }\n",
       "\n",
       "    .dataframe tbody tr th {\n",
       "        vertical-align: top;\n",
       "    }\n",
       "\n",
       "    .dataframe thead th {\n",
       "        text-align: right;\n",
       "    }\n",
       "</style>\n",
       "<table border=\"1\" class=\"dataframe\">\n",
       "  <thead>\n",
       "    <tr style=\"text-align: right;\">\n",
       "      <th></th>\n",
       "      <th>Marriage</th>\n",
       "      <th>Age</th>\n",
       "      <th>Sex_female</th>\n",
       "      <th>Sex_male</th>\n",
       "      <th>Education_graduate school</th>\n",
       "      <th>Education_high school</th>\n",
       "      <th>Education_other</th>\n",
       "      <th>Education_university</th>\n",
       "      <th>Default_Status_default</th>\n",
       "    </tr>\n",
       "  </thead>\n",
       "  <tbody>\n",
       "    <tr>\n",
       "      <th>0</th>\n",
       "      <td>1</td>\n",
       "      <td>24</td>\n",
       "      <td>1</td>\n",
       "      <td>0</td>\n",
       "      <td>0</td>\n",
       "      <td>0</td>\n",
       "      <td>0</td>\n",
       "      <td>1</td>\n",
       "      <td>1</td>\n",
       "    </tr>\n",
       "    <tr>\n",
       "      <th>1</th>\n",
       "      <td>2</td>\n",
       "      <td>26</td>\n",
       "      <td>1</td>\n",
       "      <td>0</td>\n",
       "      <td>0</td>\n",
       "      <td>0</td>\n",
       "      <td>0</td>\n",
       "      <td>1</td>\n",
       "      <td>1</td>\n",
       "    </tr>\n",
       "    <tr>\n",
       "      <th>2</th>\n",
       "      <td>2</td>\n",
       "      <td>34</td>\n",
       "      <td>1</td>\n",
       "      <td>0</td>\n",
       "      <td>0</td>\n",
       "      <td>0</td>\n",
       "      <td>0</td>\n",
       "      <td>1</td>\n",
       "      <td>0</td>\n",
       "    </tr>\n",
       "    <tr>\n",
       "      <th>3</th>\n",
       "      <td>1</td>\n",
       "      <td>37</td>\n",
       "      <td>1</td>\n",
       "      <td>0</td>\n",
       "      <td>0</td>\n",
       "      <td>0</td>\n",
       "      <td>0</td>\n",
       "      <td>1</td>\n",
       "      <td>0</td>\n",
       "    </tr>\n",
       "    <tr>\n",
       "      <th>4</th>\n",
       "      <td>1</td>\n",
       "      <td>57</td>\n",
       "      <td>0</td>\n",
       "      <td>1</td>\n",
       "      <td>0</td>\n",
       "      <td>0</td>\n",
       "      <td>0</td>\n",
       "      <td>1</td>\n",
       "      <td>0</td>\n",
       "    </tr>\n",
       "  </tbody>\n",
       "</table>\n",
       "</div>"
      ],
      "text/plain": [
       "   Marriage  Age  Sex_female  Sex_male  Education_graduate school  \\\n",
       "0         1   24           1         0                          0   \n",
       "1         2   26           1         0                          0   \n",
       "2         2   34           1         0                          0   \n",
       "3         1   37           1         0                          0   \n",
       "4         1   57           0         1                          0   \n",
       "\n",
       "   Education_high school  Education_other  Education_university  \\\n",
       "0                      0                0                     1   \n",
       "1                      0                0                     1   \n",
       "2                      0                0                     1   \n",
       "3                      0                0                     1   \n",
       "4                      0                0                     1   \n",
       "\n",
       "   Default_Status_default  \n",
       "0                       1  \n",
       "1                       1  \n",
       "2                       0  \n",
       "3                       0  \n",
       "4                       0  "
      ]
     },
     "execution_count": 274,
     "metadata": {},
     "output_type": "execute_result"
    }
   ],
   "source": [
    "#features\n",
    "Xl = credit[['Marriage', 'Age','Sex_female',\n",
    "       'Sex_male', 'Education_graduate school', 'Education_high school',\n",
    "       'Education_other', 'Education_university','Default_Status_default']]\n",
    "\n",
    "\n",
    "print('Summary of feature sample')\n",
    "Xl.head()"
   ]
  },
  {
   "cell_type": "code",
   "execution_count": 275,
   "id": "1a8f2f3e",
   "metadata": {},
   "outputs": [],
   "source": [
    "yl= credit['Limit_Bal']"
   ]
  },
  {
   "cell_type": "code",
   "execution_count": 276,
   "id": "50d0d671",
   "metadata": {},
   "outputs": [
    {
     "data": {
      "text/plain": [
       "0.1233296272672827"
      ]
     },
     "execution_count": 276,
     "metadata": {},
     "output_type": "execute_result"
    }
   ],
   "source": [
    "model1 = LinearRegression(n_jobs=10)\n",
    "#train test split\n",
    "x_train, x_test, y_train, y_test = train_test_split(Xl, yl,test_size = 0.3, random_state = 123)\n",
    "model1.fit(x_train, y_train)\n",
    "model1.score(x_test, y_test)"
   ]
  },
  {
   "cell_type": "code",
   "execution_count": 279,
   "id": "1e8be831",
   "metadata": {},
   "outputs": [
    {
     "data": {
      "text/plain": [
       "0.021083379253970858"
      ]
     },
     "execution_count": 279,
     "metadata": {},
     "output_type": "execute_result"
    }
   ],
   "source": [
    "model2 = RandomForestRegressor(n_jobs=10)\n",
    "#train test split\n",
    "x_train, x_test, y_train, y_test = train_test_split(Xl, yl,test_size = 0.3, random_state = 123)\n",
    "model2.fit(x_train, y_train)\n",
    "model2.score(x_test, y_test)"
   ]
  },
  {
   "cell_type": "code",
   "execution_count": 280,
   "id": "388dfacd",
   "metadata": {},
   "outputs": [
    {
     "data": {
      "text/plain": [
       "-0.045235139621363496"
      ]
     },
     "execution_count": 280,
     "metadata": {},
     "output_type": "execute_result"
    }
   ],
   "source": [
    "model3 = SVR()\n",
    "X_train, X_test, y_train, y_test = train_test_split(Xl, yl,test_size = 0.3, random_state = 123)\n",
    "model3.fit(X_train, y_train)\n",
    "regressor = SVR(kernel = 'rbf')\n",
    "regressor.fit(X_train, y_train)\n",
    "model3.score(X_test, y_test)"
   ]
  },
  {
   "cell_type": "code",
   "execution_count": 281,
   "id": "d6da80d5",
   "metadata": {},
   "outputs": [
    {
     "name": "stdout",
     "output_type": "stream",
     "text": [
      "[-0.05772982 -0.02860702 -0.05437897 -0.0296234  -0.03285382]\n"
     ]
    }
   ],
   "source": [
    "print(cross_val_score(model, Xl, yl, cv=5, )) \n",
    "#this gives you r2 because its a smart function and we run regression model# cv = number of folds being held out "
   ]
  },
  {
   "cell_type": "code",
   "execution_count": 282,
   "id": "3c4a4dca",
   "metadata": {},
   "outputs": [],
   "source": [
    "model = []\n",
    "model.append(('Random Forest Regressor',RandomForestRegressor()))\n",
    "model.append(('Linear Regression',LinearRegression()))\n",
    "model.append(('Support Vector Regression',SVR()))"
   ]
  },
  {
   "cell_type": "code",
   "execution_count": 283,
   "id": "aa7c3f4c",
   "metadata": {},
   "outputs": [],
   "source": [
    "#classification\n",
    "results = []\n",
    "names = []\n",
    "for name, model in model:\n",
    "    result = cross_val_score(model, Xl,yl)\n",
    "    results.append(result)\n",
    "    names.append(name)"
   ]
  },
  {
   "cell_type": "code",
   "execution_count": 284,
   "id": "9ee1983b",
   "metadata": {},
   "outputs": [
    {
     "name": "stdout",
     "output_type": "stream",
     "text": [
      "Random Forest Regressor 0.021275839119786744\n",
      "Linear Regression 0.11200030871196501\n",
      "Support Vector Regression -0.040638606468480276\n"
     ]
    }
   ],
   "source": [
    "for i in range(len(names)):\n",
    "    print(names[i],results[i].mean())"
   ]
  },
  {
   "cell_type": "code",
   "execution_count": 285,
   "id": "c7baad5e",
   "metadata": {},
   "outputs": [
    {
     "name": "stdout",
     "output_type": "stream",
     "text": [
      "R Squared: 0.123\n",
      "RMSE: 121225.242\n"
     ]
    }
   ],
   "source": [
    "#Make Predictions\n",
    "predictions = model1.predict(X_test)\n",
    "predRsquared = r2_score(y_test,predictions)\n",
    "rmse = sqrt(mean_squared_error(y_test, predictions))\n",
    "print('R Squared: %.3f' % predRsquared)\n",
    "print('RMSE: %.3f' % rmse)"
   ]
  },
  {
   "cell_type": "code",
   "execution_count": 286,
   "id": "9abe7525",
   "metadata": {},
   "outputs": [
    {
     "data": {
      "image/png": "[encoded data removed]",
      "text/plain": [
       "<Figure size 800x550 with 1 Axes>"
      ]
     },
     "metadata": {},
     "output_type": "display_data"
    }
   ],
   "source": [
    "plt.scatter(y_test, predictions, color=['blue'], alpha = 0.5)\n",
    "plt.xlabel('Ground Truth')\n",
    "plt.ylabel('Predictions')\n",
    "plt.show();"
   ]
  },
  {
   "cell_type": "code",
   "execution_count": 287,
   "id": "ef380c1c",
   "metadata": {},
   "outputs": [
    {
     "name": "stdout",
     "output_type": "stream",
     "text": [
      "R Squared: 0.123\n",
      "RMSE: 121225.242\n"
     ]
    }
   ],
   "source": [
    "#Make Predictions\n",
    "predictions2 = model2.predict(X_test)\n",
    "predRsquared = r2_score(y_test,predictions)\n",
    "rmse = sqrt(mean_squared_error(y_test, predictions))\n",
    "print('R Squared: %.3f' % predRsquared)\n",
    "print('RMSE: %.3f' % rmse)"
   ]
  },
  {
   "cell_type": "code",
   "execution_count": 288,
   "id": "5c2b7c91",
   "metadata": {},
   "outputs": [
    {
     "data": {
      "image/png": "[encoded data removed]",
      "text/plain": [
       "<Figure size 800x550 with 1 Axes>"
      ]
     },
     "metadata": {},
     "output_type": "display_data"
    }
   ],
   "source": [
    "plt.scatter(y_test, predictions2, color=['blue'], alpha = 0.5)\n",
    "plt.xlabel('Ground Truth')\n",
    "plt.ylabel('Predictions')\n",
    "plt.show();"
   ]
  },
  {
   "cell_type": "code",
   "execution_count": 289,
   "id": "fcbc53b1",
   "metadata": {},
   "outputs": [
    {
     "name": "stdout",
     "output_type": "stream",
     "text": [
      "R Squared: 0.123\n",
      "RMSE: 121225.242\n"
     ]
    }
   ],
   "source": [
    "#Make Predictions\n",
    "predictions3 = model3.predict(X_test)\n",
    "predRsquared = r2_score(y_test,predictions)\n",
    "rmse = sqrt(mean_squared_error(y_test, predictions))\n",
    "print('R Squared: %.3f' % predRsquared)\n",
    "print('RMSE: %.3f' % rmse)"
   ]
  },
  {
   "cell_type": "code",
   "execution_count": 290,
   "id": "1d284253",
   "metadata": {},
   "outputs": [
    {
     "data": {
      "image/png": "[encoded data removed]",
      "text/plain": [
       "<Figure size 800x550 with 1 Axes>"
      ]
     },
     "metadata": {},
     "output_type": "display_data"
    }
   ],
   "source": [
    "plt.scatter(y_test, predictions3, color=['green'], alpha = 0.5)\n",
    "plt.xlabel('Ground Truth')\n",
    "plt.ylabel('Predictions')\n",
    "plt.show();"
   ]
  },
  {
   "cell_type": "code",
   "execution_count": null,
   "id": "ef87c940",
   "metadata": {},
   "outputs": [],
   "source": []
  }
 ],
 "metadata": {
  "kernelspec": {
   "display_name": "Python 3 (ipykernel)",
   "language": "python",
   "name": "python3"
  },
  "language_info": {
   "codemirror_mode": {
    "name": "ipython",
    "version": 3
   },
   "file_extension": ".py",
   "mimetype": "text/x-python",
   "name": "python",
   "nbconvert_exporter": "python",
   "pygments_lexer": "ipython3",
   "version": "3.10.4"
  }
 },
 "nbformat": 4,
 "nbformat_minor": 5
}
